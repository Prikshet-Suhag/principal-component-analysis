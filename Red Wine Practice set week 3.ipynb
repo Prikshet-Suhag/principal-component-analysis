{
 "cells": [
  {
   "cell_type": "code",
   "execution_count": 1,
   "id": "60907f06",
   "metadata": {},
   "outputs": [],
   "source": [
    "import numpy as np\n",
    "import pandas as pd\n",
    "import matplotlib.pyplot as plt\n",
    "import seaborn as sns\n"
   ]
  },
  {
   "cell_type": "code",
   "execution_count": 2,
   "id": "d60200ef",
   "metadata": {},
   "outputs": [],
   "source": [
    "df=pd.read_csv('Redwine+Quality.csv')"
   ]
  },
  {
   "cell_type": "code",
   "execution_count": 3,
   "id": "3eae6c69",
   "metadata": {},
   "outputs": [
    {
     "data": {
      "text/html": [
       "<div>\n",
       "<style scoped>\n",
       "    .dataframe tbody tr th:only-of-type {\n",
       "        vertical-align: middle;\n",
       "    }\n",
       "\n",
       "    .dataframe tbody tr th {\n",
       "        vertical-align: top;\n",
       "    }\n",
       "\n",
       "    .dataframe thead th {\n",
       "        text-align: right;\n",
       "    }\n",
       "</style>\n",
       "<table border=\"1\" class=\"dataframe\">\n",
       "  <thead>\n",
       "    <tr style=\"text-align: right;\">\n",
       "      <th></th>\n",
       "      <th>Unnamed: 0</th>\n",
       "      <th>Tartaric Acid</th>\n",
       "      <th>Grape Density</th>\n",
       "      <th>Citric Acid</th>\n",
       "      <th>Residual.sugar</th>\n",
       "      <th>Sodium chloride</th>\n",
       "      <th>Free.sulfur.dioxide</th>\n",
       "      <th>Bound.sulfur.dioxide</th>\n",
       "      <th>Alcohol Density</th>\n",
       "      <th>PH Levels</th>\n",
       "      <th>Potassium chloride</th>\n",
       "      <th>Alcohol Content</th>\n",
       "    </tr>\n",
       "  </thead>\n",
       "  <tbody>\n",
       "    <tr>\n",
       "      <th>0</th>\n",
       "      <td>1</td>\n",
       "      <td>7.4</td>\n",
       "      <td>0.70</td>\n",
       "      <td>0.00</td>\n",
       "      <td>1.9</td>\n",
       "      <td>0.076</td>\n",
       "      <td>11.0</td>\n",
       "      <td>34.0</td>\n",
       "      <td>0.9978</td>\n",
       "      <td>3.51</td>\n",
       "      <td>0.56</td>\n",
       "      <td>9.4</td>\n",
       "    </tr>\n",
       "    <tr>\n",
       "      <th>1</th>\n",
       "      <td>2</td>\n",
       "      <td>7.8</td>\n",
       "      <td>0.88</td>\n",
       "      <td>0.00</td>\n",
       "      <td>2.6</td>\n",
       "      <td>0.098</td>\n",
       "      <td>25.0</td>\n",
       "      <td>67.0</td>\n",
       "      <td>0.9968</td>\n",
       "      <td>3.20</td>\n",
       "      <td>0.68</td>\n",
       "      <td>9.8</td>\n",
       "    </tr>\n",
       "    <tr>\n",
       "      <th>2</th>\n",
       "      <td>3</td>\n",
       "      <td>7.8</td>\n",
       "      <td>0.76</td>\n",
       "      <td>0.04</td>\n",
       "      <td>2.3</td>\n",
       "      <td>0.092</td>\n",
       "      <td>15.0</td>\n",
       "      <td>54.0</td>\n",
       "      <td>0.9970</td>\n",
       "      <td>3.26</td>\n",
       "      <td>0.65</td>\n",
       "      <td>9.8</td>\n",
       "    </tr>\n",
       "    <tr>\n",
       "      <th>3</th>\n",
       "      <td>4</td>\n",
       "      <td>11.2</td>\n",
       "      <td>0.28</td>\n",
       "      <td>0.56</td>\n",
       "      <td>1.9</td>\n",
       "      <td>0.075</td>\n",
       "      <td>17.0</td>\n",
       "      <td>60.0</td>\n",
       "      <td>0.9980</td>\n",
       "      <td>3.16</td>\n",
       "      <td>0.58</td>\n",
       "      <td>9.8</td>\n",
       "    </tr>\n",
       "    <tr>\n",
       "      <th>4</th>\n",
       "      <td>5</td>\n",
       "      <td>7.4</td>\n",
       "      <td>0.70</td>\n",
       "      <td>0.00</td>\n",
       "      <td>1.9</td>\n",
       "      <td>0.076</td>\n",
       "      <td>11.0</td>\n",
       "      <td>34.0</td>\n",
       "      <td>0.9978</td>\n",
       "      <td>3.51</td>\n",
       "      <td>0.56</td>\n",
       "      <td>9.4</td>\n",
       "    </tr>\n",
       "  </tbody>\n",
       "</table>\n",
       "</div>"
      ],
      "text/plain": [
       "   Unnamed: 0  Tartaric Acid  Grape Density  Citric Acid  Residual.sugar  \\\n",
       "0           1            7.4           0.70         0.00             1.9   \n",
       "1           2            7.8           0.88         0.00             2.6   \n",
       "2           3            7.8           0.76         0.04             2.3   \n",
       "3           4           11.2           0.28         0.56             1.9   \n",
       "4           5            7.4           0.70         0.00             1.9   \n",
       "\n",
       "   Sodium chloride  Free.sulfur.dioxide  Bound.sulfur.dioxide  \\\n",
       "0            0.076                 11.0                  34.0   \n",
       "1            0.098                 25.0                  67.0   \n",
       "2            0.092                 15.0                  54.0   \n",
       "3            0.075                 17.0                  60.0   \n",
       "4            0.076                 11.0                  34.0   \n",
       "\n",
       "   Alcohol Density  PH Levels  Potassium chloride  Alcohol Content  \n",
       "0           0.9978       3.51                0.56              9.4  \n",
       "1           0.9968       3.20                0.68              9.8  \n",
       "2           0.9970       3.26                0.65              9.8  \n",
       "3           0.9980       3.16                0.58              9.8  \n",
       "4           0.9978       3.51                0.56              9.4  "
      ]
     },
     "execution_count": 3,
     "metadata": {},
     "output_type": "execute_result"
    }
   ],
   "source": [
    "df.head()"
   ]
  },
  {
   "cell_type": "code",
   "execution_count": 4,
   "id": "022a4794",
   "metadata": {},
   "outputs": [],
   "source": [
    "df.drop('Unnamed: 0',axis=1,inplace=True)"
   ]
  },
  {
   "cell_type": "code",
   "execution_count": 5,
   "id": "226a1818",
   "metadata": {},
   "outputs": [
    {
     "data": {
      "text/html": [
       "<div>\n",
       "<style scoped>\n",
       "    .dataframe tbody tr th:only-of-type {\n",
       "        vertical-align: middle;\n",
       "    }\n",
       "\n",
       "    .dataframe tbody tr th {\n",
       "        vertical-align: top;\n",
       "    }\n",
       "\n",
       "    .dataframe thead th {\n",
       "        text-align: right;\n",
       "    }\n",
       "</style>\n",
       "<table border=\"1\" class=\"dataframe\">\n",
       "  <thead>\n",
       "    <tr style=\"text-align: right;\">\n",
       "      <th></th>\n",
       "      <th>Tartaric Acid</th>\n",
       "      <th>Grape Density</th>\n",
       "      <th>Citric Acid</th>\n",
       "      <th>Residual.sugar</th>\n",
       "      <th>Sodium chloride</th>\n",
       "      <th>Free.sulfur.dioxide</th>\n",
       "      <th>Bound.sulfur.dioxide</th>\n",
       "      <th>Alcohol Density</th>\n",
       "      <th>PH Levels</th>\n",
       "      <th>Potassium chloride</th>\n",
       "      <th>Alcohol Content</th>\n",
       "    </tr>\n",
       "  </thead>\n",
       "  <tbody>\n",
       "    <tr>\n",
       "      <th>0</th>\n",
       "      <td>7.4</td>\n",
       "      <td>0.7</td>\n",
       "      <td>0.0</td>\n",
       "      <td>1.9</td>\n",
       "      <td>0.076</td>\n",
       "      <td>11.0</td>\n",
       "      <td>34.0</td>\n",
       "      <td>0.9978</td>\n",
       "      <td>3.51</td>\n",
       "      <td>0.56</td>\n",
       "      <td>9.4</td>\n",
       "    </tr>\n",
       "  </tbody>\n",
       "</table>\n",
       "</div>"
      ],
      "text/plain": [
       "   Tartaric Acid  Grape Density  Citric Acid  Residual.sugar  Sodium chloride  \\\n",
       "0            7.4            0.7          0.0             1.9            0.076   \n",
       "\n",
       "   Free.sulfur.dioxide  Bound.sulfur.dioxide  Alcohol Density  PH Levels  \\\n",
       "0                 11.0                  34.0           0.9978       3.51   \n",
       "\n",
       "   Potassium chloride  Alcohol Content  \n",
       "0                0.56              9.4  "
      ]
     },
     "execution_count": 5,
     "metadata": {},
     "output_type": "execute_result"
    }
   ],
   "source": [
    "df.head(1)"
   ]
  },
  {
   "cell_type": "code",
   "execution_count": 6,
   "id": "fee9118a",
   "metadata": {},
   "outputs": [],
   "source": [
    "from scipy.stats import zscore"
   ]
  },
  {
   "cell_type": "code",
   "execution_count": 8,
   "id": "a9704f8e",
   "metadata": {},
   "outputs": [
    {
     "data": {
      "text/html": [
       "<div>\n",
       "<style scoped>\n",
       "    .dataframe tbody tr th:only-of-type {\n",
       "        vertical-align: middle;\n",
       "    }\n",
       "\n",
       "    .dataframe tbody tr th {\n",
       "        vertical-align: top;\n",
       "    }\n",
       "\n",
       "    .dataframe thead th {\n",
       "        text-align: right;\n",
       "    }\n",
       "</style>\n",
       "<table border=\"1\" class=\"dataframe\">\n",
       "  <thead>\n",
       "    <tr style=\"text-align: right;\">\n",
       "      <th></th>\n",
       "      <th>Tartaric Acid</th>\n",
       "      <th>Grape Density</th>\n",
       "      <th>Citric Acid</th>\n",
       "      <th>Residual.sugar</th>\n",
       "      <th>Sodium chloride</th>\n",
       "      <th>Free.sulfur.dioxide</th>\n",
       "      <th>Bound.sulfur.dioxide</th>\n",
       "      <th>Alcohol Density</th>\n",
       "      <th>PH Levels</th>\n",
       "      <th>Potassium chloride</th>\n",
       "      <th>Alcohol Content</th>\n",
       "    </tr>\n",
       "  </thead>\n",
       "  <tbody>\n",
       "    <tr>\n",
       "      <th>0</th>\n",
       "      <td>-0.528360</td>\n",
       "      <td>0.961877</td>\n",
       "      <td>-1.391472</td>\n",
       "      <td>-0.453218</td>\n",
       "      <td>-0.243707</td>\n",
       "      <td>-0.466193</td>\n",
       "      <td>-0.379133</td>\n",
       "      <td>0.558274</td>\n",
       "      <td>1.288643</td>\n",
       "      <td>-0.579207</td>\n",
       "      <td>-0.960246</td>\n",
       "    </tr>\n",
       "    <tr>\n",
       "      <th>1</th>\n",
       "      <td>-0.298547</td>\n",
       "      <td>1.967442</td>\n",
       "      <td>-1.391472</td>\n",
       "      <td>0.043416</td>\n",
       "      <td>0.223875</td>\n",
       "      <td>0.872638</td>\n",
       "      <td>0.624363</td>\n",
       "      <td>0.028261</td>\n",
       "      <td>-0.719933</td>\n",
       "      <td>0.128950</td>\n",
       "      <td>-0.584777</td>\n",
       "    </tr>\n",
       "    <tr>\n",
       "      <th>2</th>\n",
       "      <td>-0.298547</td>\n",
       "      <td>1.297065</td>\n",
       "      <td>-1.186070</td>\n",
       "      <td>-0.169427</td>\n",
       "      <td>0.096353</td>\n",
       "      <td>-0.083669</td>\n",
       "      <td>0.229047</td>\n",
       "      <td>0.134264</td>\n",
       "      <td>-0.331177</td>\n",
       "      <td>-0.048089</td>\n",
       "      <td>-0.584777</td>\n",
       "    </tr>\n",
       "    <tr>\n",
       "      <th>3</th>\n",
       "      <td>1.654856</td>\n",
       "      <td>-1.384443</td>\n",
       "      <td>1.484154</td>\n",
       "      <td>-0.453218</td>\n",
       "      <td>-0.264960</td>\n",
       "      <td>0.107592</td>\n",
       "      <td>0.411500</td>\n",
       "      <td>0.664277</td>\n",
       "      <td>-0.979104</td>\n",
       "      <td>-0.461180</td>\n",
       "      <td>-0.584777</td>\n",
       "    </tr>\n",
       "    <tr>\n",
       "      <th>4</th>\n",
       "      <td>-0.528360</td>\n",
       "      <td>0.961877</td>\n",
       "      <td>-1.391472</td>\n",
       "      <td>-0.453218</td>\n",
       "      <td>-0.243707</td>\n",
       "      <td>-0.466193</td>\n",
       "      <td>-0.379133</td>\n",
       "      <td>0.558274</td>\n",
       "      <td>1.288643</td>\n",
       "      <td>-0.579207</td>\n",
       "      <td>-0.960246</td>\n",
       "    </tr>\n",
       "  </tbody>\n",
       "</table>\n",
       "</div>"
      ],
      "text/plain": [
       "   Tartaric Acid  Grape Density  Citric Acid  Residual.sugar  Sodium chloride  \\\n",
       "0      -0.528360       0.961877    -1.391472       -0.453218        -0.243707   \n",
       "1      -0.298547       1.967442    -1.391472        0.043416         0.223875   \n",
       "2      -0.298547       1.297065    -1.186070       -0.169427         0.096353   \n",
       "3       1.654856      -1.384443     1.484154       -0.453218        -0.264960   \n",
       "4      -0.528360       0.961877    -1.391472       -0.453218        -0.243707   \n",
       "\n",
       "   Free.sulfur.dioxide  Bound.sulfur.dioxide  Alcohol Density  PH Levels  \\\n",
       "0            -0.466193             -0.379133         0.558274   1.288643   \n",
       "1             0.872638              0.624363         0.028261  -0.719933   \n",
       "2            -0.083669              0.229047         0.134264  -0.331177   \n",
       "3             0.107592              0.411500         0.664277  -0.979104   \n",
       "4            -0.466193             -0.379133         0.558274   1.288643   \n",
       "\n",
       "   Potassium chloride  Alcohol Content  \n",
       "0           -0.579207        -0.960246  \n",
       "1            0.128950        -0.584777  \n",
       "2           -0.048089        -0.584777  \n",
       "3           -0.461180        -0.584777  \n",
       "4           -0.579207        -0.960246  "
      ]
     },
     "execution_count": 8,
     "metadata": {},
     "output_type": "execute_result"
    }
   ],
   "source": [
    "df_scaled=df.apply(zscore)\n",
    "df_scaled.head()"
   ]
  },
  {
   "cell_type": "code",
   "execution_count": 9,
   "id": "7a5de850",
   "metadata": {},
   "outputs": [],
   "source": [
    "from sklearn.decomposition import PCA\n",
    "pca=PCA(n_components=6, random_state=123)\n",
    "pca_scaled=pca.fit_transform(df_scaled)"
   ]
  },
  {
   "cell_type": "code",
   "execution_count": 10,
   "id": "5568b170",
   "metadata": {},
   "outputs": [
    {
     "data": {
      "text/plain": [
       "array([[-1.61952988,  0.45095009, -1.77445415,  0.04374031,  0.06701448,\n",
       "        -0.91392069],\n",
       "       [-0.79916993,  1.85655306, -0.91169017,  0.54806597, -0.01839156,\n",
       "         0.92971392],\n",
       "       [-0.74847909,  0.88203886, -1.17139423,  0.41102067, -0.04353101,\n",
       "         0.40147313],\n",
       "       ...,\n",
       "       [-1.45612897,  0.31174559,  1.12423941,  0.49187676,  0.19371564,\n",
       "        -0.50640956],\n",
       "       [-2.27051793,  0.97979111,  0.62796456,  0.63977007,  0.06773549,\n",
       "        -0.86040762],\n",
       "       [-0.42697475, -0.53669021,  1.6289552 , -0.39171595,  0.45048209,\n",
       "        -0.49615364]])"
      ]
     },
     "execution_count": 10,
     "metadata": {},
     "output_type": "execute_result"
    }
   ],
   "source": [
    "pca_scaled"
   ]
  },
  {
   "cell_type": "code",
   "execution_count": 11,
   "id": "7a4b9b98",
   "metadata": {},
   "outputs": [
    {
     "data": {
      "text/plain": [
       "array([[ 0.48931422, -0.23858436,  0.46363166,  0.14610715,  0.21224658,\n",
       "        -0.03615752,  0.02357485,  0.39535301, -0.43851962,  0.24292133,\n",
       "        -0.11323207],\n",
       "       [-0.11050274,  0.27493048, -0.15179136,  0.27208024,  0.14805156,\n",
       "         0.51356681,  0.56948696,  0.23357549,  0.00671079, -0.03755392,\n",
       "        -0.38618096],\n",
       "       [-0.12330157, -0.44996253,  0.23824707,  0.10128338, -0.09261383,\n",
       "         0.42879287,  0.3224145 , -0.33887135,  0.05769735,  0.27978615,\n",
       "         0.47167322],\n",
       "       [-0.22961737,  0.07895978, -0.07941826, -0.37279256,  0.66619476,\n",
       "        -0.04353782, -0.03457712, -0.17449976, -0.00378775,  0.55087236,\n",
       "        -0.12218109],\n",
       "       [-0.08261366,  0.21873452, -0.05857268,  0.73214429,  0.2465009 ,\n",
       "        -0.15915198, -0.22246456,  0.15707671,  0.26752977,  0.22596222,\n",
       "         0.35068141],\n",
       "       [ 0.10147858,  0.41144893,  0.06959338,  0.04915555,  0.30433857,\n",
       "        -0.01400021,  0.13630755, -0.3911523 , -0.52211645, -0.38126343,\n",
       "         0.36164504]])"
      ]
     },
     "execution_count": 11,
     "metadata": {},
     "output_type": "execute_result"
    }
   ],
   "source": [
    "pca.components_"
   ]
  },
  {
   "cell_type": "code",
   "execution_count": 12,
   "id": "277d3812",
   "metadata": {},
   "outputs": [
    {
     "data": {
      "text/plain": [
       "array([3.10107182, 1.92711489, 1.55151379, 1.21399175, 0.95989238,\n",
       "       0.66002104])"
      ]
     },
     "execution_count": 12,
     "metadata": {},
     "output_type": "execute_result"
    }
   ],
   "source": [
    "pca.explained_variance_"
   ]
  },
  {
   "cell_type": "code",
   "execution_count": 13,
   "id": "9a1343cf",
   "metadata": {},
   "outputs": [
    {
     "data": {
      "text/plain": [
       "array([0.28173931, 0.1750827 , 0.1409585 , 0.11029387, 0.08720837,\n",
       "       0.05996439])"
      ]
     },
     "execution_count": 13,
     "metadata": {},
     "output_type": "execute_result"
    }
   ],
   "source": [
    "pca.explained_variance_ratio_"
   ]
  },
  {
   "cell_type": "code",
   "execution_count": null,
   "id": "db589805",
   "metadata": {},
   "outputs": [],
   "source": []
  }
 ],
 "metadata": {
  "kernelspec": {
   "display_name": "Python 3 (ipykernel)",
   "language": "python",
   "name": "python3"
  },
  "language_info": {
   "codemirror_mode": {
    "name": "ipython",
    "version": 3
   },
   "file_extension": ".py",
   "mimetype": "text/x-python",
   "name": "python",
   "nbconvert_exporter": "python",
   "pygments_lexer": "ipython3",
   "version": "3.9.7"
  }
 },
 "nbformat": 4,
 "nbformat_minor": 5
}
