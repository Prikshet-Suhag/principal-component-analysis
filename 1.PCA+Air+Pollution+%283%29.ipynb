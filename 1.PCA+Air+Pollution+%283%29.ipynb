{
 "cells": [
  {
   "cell_type": "code",
   "execution_count": 1,
   "metadata": {
    "scrolled": false
   },
   "outputs": [],
   "source": [
    "#Import the basic libraries to get started with EDA\n",
    "import numpy as np\n",
    "import pandas as pd\n",
    "import matplotlib.pyplot as plt\n",
    "import seaborn as sns"
   ]
  },
  {
   "cell_type": "code",
   "execution_count": 2,
   "metadata": {
    "scrolled": false
   },
   "outputs": [],
   "source": [
    "#Read the data\n",
    "df = pd.read_excel(\"1.Delhi_Pollution_data+%282%29.xlsx\")"
   ]
  },
  {
   "cell_type": "code",
   "execution_count": 3,
   "metadata": {
    "scrolled": false
   },
   "outputs": [
    {
     "data": {
      "text/html": [
       "<div>\n",
       "<style scoped>\n",
       "    .dataframe tbody tr th:only-of-type {\n",
       "        vertical-align: middle;\n",
       "    }\n",
       "\n",
       "    .dataframe tbody tr th {\n",
       "        vertical-align: top;\n",
       "    }\n",
       "\n",
       "    .dataframe thead th {\n",
       "        text-align: right;\n",
       "    }\n",
       "</style>\n",
       "<table border=\"1\" class=\"dataframe\">\n",
       "  <thead>\n",
       "    <tr style=\"text-align: right;\">\n",
       "      <th></th>\n",
       "      <th>City</th>\n",
       "      <th>Date</th>\n",
       "      <th>PM2.5</th>\n",
       "      <th>PM10</th>\n",
       "      <th>NO</th>\n",
       "      <th>NO2</th>\n",
       "      <th>NOx</th>\n",
       "      <th>NH3</th>\n",
       "      <th>CO</th>\n",
       "      <th>SO2</th>\n",
       "      <th>O3</th>\n",
       "      <th>Benzene</th>\n",
       "      <th>Toluene</th>\n",
       "      <th>Xylene</th>\n",
       "      <th>AQI</th>\n",
       "      <th>AQI_Bucket</th>\n",
       "    </tr>\n",
       "  </thead>\n",
       "  <tbody>\n",
       "    <tr>\n",
       "      <th>0</th>\n",
       "      <td>Delhi</td>\n",
       "      <td>2020-07-01</td>\n",
       "      <td>54.01</td>\n",
       "      <td>128.66</td>\n",
       "      <td>6.33</td>\n",
       "      <td>21.05</td>\n",
       "      <td>16.81</td>\n",
       "      <td>29.06</td>\n",
       "      <td>0.97</td>\n",
       "      <td>11.15</td>\n",
       "      <td>29.73</td>\n",
       "      <td>2.03</td>\n",
       "      <td>23.57</td>\n",
       "      <td>0.65</td>\n",
       "      <td>101</td>\n",
       "      <td>Moderate</td>\n",
       "    </tr>\n",
       "    <tr>\n",
       "      <th>1</th>\n",
       "      <td>Delhi</td>\n",
       "      <td>2020-06-30</td>\n",
       "      <td>39.80</td>\n",
       "      <td>91.98</td>\n",
       "      <td>5.99</td>\n",
       "      <td>17.96</td>\n",
       "      <td>15.44</td>\n",
       "      <td>28.48</td>\n",
       "      <td>0.84</td>\n",
       "      <td>10.51</td>\n",
       "      <td>37.29</td>\n",
       "      <td>1.57</td>\n",
       "      <td>16.37</td>\n",
       "      <td>0.49</td>\n",
       "      <td>114</td>\n",
       "      <td>Moderate</td>\n",
       "    </tr>\n",
       "    <tr>\n",
       "      <th>2</th>\n",
       "      <td>Delhi</td>\n",
       "      <td>2020-06-29</td>\n",
       "      <td>44.86</td>\n",
       "      <td>184.12</td>\n",
       "      <td>10.50</td>\n",
       "      <td>21.57</td>\n",
       "      <td>21.94</td>\n",
       "      <td>27.97</td>\n",
       "      <td>0.88</td>\n",
       "      <td>11.58</td>\n",
       "      <td>26.61</td>\n",
       "      <td>2.13</td>\n",
       "      <td>23.80</td>\n",
       "      <td>1.13</td>\n",
       "      <td>233</td>\n",
       "      <td>Poor</td>\n",
       "    </tr>\n",
       "    <tr>\n",
       "      <th>3</th>\n",
       "      <td>Delhi</td>\n",
       "      <td>2020-06-28</td>\n",
       "      <td>59.52</td>\n",
       "      <td>308.65</td>\n",
       "      <td>12.67</td>\n",
       "      <td>21.60</td>\n",
       "      <td>23.86</td>\n",
       "      <td>29.27</td>\n",
       "      <td>0.94</td>\n",
       "      <td>10.70</td>\n",
       "      <td>18.05</td>\n",
       "      <td>1.71</td>\n",
       "      <td>25.13</td>\n",
       "      <td>1.74</td>\n",
       "      <td>196</td>\n",
       "      <td>Moderate</td>\n",
       "    </tr>\n",
       "    <tr>\n",
       "      <th>4</th>\n",
       "      <td>Delhi</td>\n",
       "      <td>2020-06-27</td>\n",
       "      <td>39.80</td>\n",
       "      <td>155.94</td>\n",
       "      <td>10.88</td>\n",
       "      <td>21.46</td>\n",
       "      <td>22.47</td>\n",
       "      <td>31.43</td>\n",
       "      <td>0.87</td>\n",
       "      <td>10.38</td>\n",
       "      <td>18.88</td>\n",
       "      <td>1.69</td>\n",
       "      <td>19.99</td>\n",
       "      <td>0.43</td>\n",
       "      <td>112</td>\n",
       "      <td>Moderate</td>\n",
       "    </tr>\n",
       "  </tbody>\n",
       "</table>\n",
       "</div>"
      ],
      "text/plain": [
       "    City       Date  PM2.5    PM10     NO    NO2    NOx    NH3    CO    SO2  \\\n",
       "0  Delhi 2020-07-01  54.01  128.66   6.33  21.05  16.81  29.06  0.97  11.15   \n",
       "1  Delhi 2020-06-30  39.80   91.98   5.99  17.96  15.44  28.48  0.84  10.51   \n",
       "2  Delhi 2020-06-29  44.86  184.12  10.50  21.57  21.94  27.97  0.88  11.58   \n",
       "3  Delhi 2020-06-28  59.52  308.65  12.67  21.60  23.86  29.27  0.94  10.70   \n",
       "4  Delhi 2020-06-27  39.80  155.94  10.88  21.46  22.47  31.43  0.87  10.38   \n",
       "\n",
       "      O3  Benzene  Toluene  Xylene  AQI AQI_Bucket  \n",
       "0  29.73     2.03    23.57    0.65  101   Moderate  \n",
       "1  37.29     1.57    16.37    0.49  114   Moderate  \n",
       "2  26.61     2.13    23.80    1.13  233       Poor  \n",
       "3  18.05     1.71    25.13    1.74  196   Moderate  \n",
       "4  18.88     1.69    19.99    0.43  112   Moderate  "
      ]
     },
     "execution_count": 3,
     "metadata": {},
     "output_type": "execute_result"
    }
   ],
   "source": [
    "#Check the first few observations\n",
    "df.head()"
   ]
  },
  {
   "cell_type": "code",
   "execution_count": 4,
   "metadata": {
    "scrolled": false
   },
   "outputs": [
    {
     "name": "stdout",
     "output_type": "stream",
     "text": [
      "<class 'pandas.core.frame.DataFrame'>\n",
      "RangeIndex: 2009 entries, 0 to 2008\n",
      "Data columns (total 16 columns):\n",
      " #   Column      Non-Null Count  Dtype         \n",
      "---  ------      --------------  -----         \n",
      " 0   City        2009 non-null   object        \n",
      " 1   Date        2009 non-null   datetime64[ns]\n",
      " 2   PM2.5       2009 non-null   float64       \n",
      " 3   PM10        2009 non-null   float64       \n",
      " 4   NO          2009 non-null   float64       \n",
      " 5   NO2         2009 non-null   float64       \n",
      " 6   NOx         2009 non-null   float64       \n",
      " 7   NH3         2009 non-null   float64       \n",
      " 8   CO          2009 non-null   float64       \n",
      " 9   SO2         2009 non-null   float64       \n",
      " 10  O3          2009 non-null   float64       \n",
      " 11  Benzene     2009 non-null   float64       \n",
      " 12  Toluene     2009 non-null   float64       \n",
      " 13  Xylene      2009 non-null   float64       \n",
      " 14  AQI         2009 non-null   int64         \n",
      " 15  AQI_Bucket  2009 non-null   object        \n",
      "dtypes: datetime64[ns](1), float64(12), int64(1), object(2)\n",
      "memory usage: 251.2+ KB\n"
     ]
    }
   ],
   "source": [
    "#Check the appropriateness of datatypes\n",
    "df.info()"
   ]
  },
  {
   "cell_type": "code",
   "execution_count": 5,
   "metadata": {
    "scrolled": false
   },
   "outputs": [
    {
     "name": "stdout",
     "output_type": "stream",
     "text": [
      "No of Duplicate records: 0\n"
     ]
    }
   ],
   "source": [
    "#Check for presence of duplicate rows\n",
    "dups=df.duplicated()\n",
    "print('No of Duplicate records:',dups.sum())"
   ]
  },
  {
   "cell_type": "code",
   "execution_count": 6,
   "metadata": {
    "scrolled": false
   },
   "outputs": [
    {
     "data": {
      "text/plain": [
       "City          0\n",
       "Date          0\n",
       "PM2.5         0\n",
       "PM10          0\n",
       "NO            0\n",
       "NO2           0\n",
       "NOx           0\n",
       "NH3           0\n",
       "CO            0\n",
       "SO2           0\n",
       "O3            0\n",
       "Benzene       0\n",
       "Toluene       0\n",
       "Xylene        0\n",
       "AQI           0\n",
       "AQI_Bucket    0\n",
       "dtype: int64"
      ]
     },
     "execution_count": 6,
     "metadata": {},
     "output_type": "execute_result"
    }
   ],
   "source": [
    "#Check for presence of missing values in each feature\n",
    "df.isnull().sum()"
   ]
  },
  {
   "cell_type": "code",
   "execution_count": 7,
   "metadata": {
    "scrolled": false
   },
   "outputs": [],
   "source": [
    "#Note: AQI and AQI_Bucket are dependent features\n",
    "#Drop all columns other than the ones suitable for PCA\n",
    "df.drop(['City','Date','AQI','AQI_Bucket'],axis=1,inplace=True)"
   ]
  },
  {
   "cell_type": "code",
   "execution_count": 8,
   "metadata": {
    "scrolled": false
   },
   "outputs": [
    {
     "data": {
      "text/html": [
       "<div>\n",
       "<style scoped>\n",
       "    .dataframe tbody tr th:only-of-type {\n",
       "        vertical-align: middle;\n",
       "    }\n",
       "\n",
       "    .dataframe tbody tr th {\n",
       "        vertical-align: top;\n",
       "    }\n",
       "\n",
       "    .dataframe thead th {\n",
       "        text-align: right;\n",
       "    }\n",
       "</style>\n",
       "<table border=\"1\" class=\"dataframe\">\n",
       "  <thead>\n",
       "    <tr style=\"text-align: right;\">\n",
       "      <th></th>\n",
       "      <th>PM2.5</th>\n",
       "      <th>PM10</th>\n",
       "      <th>NO</th>\n",
       "      <th>NO2</th>\n",
       "      <th>NOx</th>\n",
       "      <th>NH3</th>\n",
       "      <th>CO</th>\n",
       "      <th>SO2</th>\n",
       "      <th>O3</th>\n",
       "      <th>Benzene</th>\n",
       "      <th>Toluene</th>\n",
       "      <th>Xylene</th>\n",
       "    </tr>\n",
       "  </thead>\n",
       "  <tbody>\n",
       "    <tr>\n",
       "      <th>0</th>\n",
       "      <td>54.01</td>\n",
       "      <td>128.66</td>\n",
       "      <td>6.33</td>\n",
       "      <td>21.05</td>\n",
       "      <td>16.81</td>\n",
       "      <td>29.06</td>\n",
       "      <td>0.97</td>\n",
       "      <td>11.15</td>\n",
       "      <td>29.73</td>\n",
       "      <td>2.03</td>\n",
       "      <td>23.57</td>\n",
       "      <td>0.65</td>\n",
       "    </tr>\n",
       "    <tr>\n",
       "      <th>1</th>\n",
       "      <td>39.80</td>\n",
       "      <td>91.98</td>\n",
       "      <td>5.99</td>\n",
       "      <td>17.96</td>\n",
       "      <td>15.44</td>\n",
       "      <td>28.48</td>\n",
       "      <td>0.84</td>\n",
       "      <td>10.51</td>\n",
       "      <td>37.29</td>\n",
       "      <td>1.57</td>\n",
       "      <td>16.37</td>\n",
       "      <td>0.49</td>\n",
       "    </tr>\n",
       "    <tr>\n",
       "      <th>2</th>\n",
       "      <td>44.86</td>\n",
       "      <td>184.12</td>\n",
       "      <td>10.50</td>\n",
       "      <td>21.57</td>\n",
       "      <td>21.94</td>\n",
       "      <td>27.97</td>\n",
       "      <td>0.88</td>\n",
       "      <td>11.58</td>\n",
       "      <td>26.61</td>\n",
       "      <td>2.13</td>\n",
       "      <td>23.80</td>\n",
       "      <td>1.13</td>\n",
       "    </tr>\n",
       "    <tr>\n",
       "      <th>3</th>\n",
       "      <td>59.52</td>\n",
       "      <td>308.65</td>\n",
       "      <td>12.67</td>\n",
       "      <td>21.60</td>\n",
       "      <td>23.86</td>\n",
       "      <td>29.27</td>\n",
       "      <td>0.94</td>\n",
       "      <td>10.70</td>\n",
       "      <td>18.05</td>\n",
       "      <td>1.71</td>\n",
       "      <td>25.13</td>\n",
       "      <td>1.74</td>\n",
       "    </tr>\n",
       "    <tr>\n",
       "      <th>4</th>\n",
       "      <td>39.80</td>\n",
       "      <td>155.94</td>\n",
       "      <td>10.88</td>\n",
       "      <td>21.46</td>\n",
       "      <td>22.47</td>\n",
       "      <td>31.43</td>\n",
       "      <td>0.87</td>\n",
       "      <td>10.38</td>\n",
       "      <td>18.88</td>\n",
       "      <td>1.69</td>\n",
       "      <td>19.99</td>\n",
       "      <td>0.43</td>\n",
       "    </tr>\n",
       "    <tr>\n",
       "      <th>5</th>\n",
       "      <td>50.01</td>\n",
       "      <td>112.08</td>\n",
       "      <td>9.67</td>\n",
       "      <td>22.06</td>\n",
       "      <td>21.75</td>\n",
       "      <td>32.64</td>\n",
       "      <td>1.01</td>\n",
       "      <td>11.66</td>\n",
       "      <td>24.82</td>\n",
       "      <td>2.07</td>\n",
       "      <td>23.31</td>\n",
       "      <td>0.70</td>\n",
       "    </tr>\n",
       "    <tr>\n",
       "      <th>6</th>\n",
       "      <td>38.37</td>\n",
       "      <td>77.76</td>\n",
       "      <td>9.33</td>\n",
       "      <td>21.41</td>\n",
       "      <td>21.17</td>\n",
       "      <td>30.48</td>\n",
       "      <td>1.02</td>\n",
       "      <td>11.28</td>\n",
       "      <td>25.92</td>\n",
       "      <td>1.59</td>\n",
       "      <td>19.18</td>\n",
       "      <td>0.49</td>\n",
       "    </tr>\n",
       "    <tr>\n",
       "      <th>7</th>\n",
       "      <td>30.91</td>\n",
       "      <td>62.61</td>\n",
       "      <td>6.63</td>\n",
       "      <td>16.84</td>\n",
       "      <td>15.72</td>\n",
       "      <td>31.45</td>\n",
       "      <td>0.89</td>\n",
       "      <td>11.02</td>\n",
       "      <td>24.77</td>\n",
       "      <td>1.28</td>\n",
       "      <td>12.13</td>\n",
       "      <td>0.27</td>\n",
       "    </tr>\n",
       "    <tr>\n",
       "      <th>8</th>\n",
       "      <td>29.02</td>\n",
       "      <td>64.12</td>\n",
       "      <td>6.22</td>\n",
       "      <td>16.39</td>\n",
       "      <td>15.33</td>\n",
       "      <td>33.32</td>\n",
       "      <td>0.88</td>\n",
       "      <td>11.09</td>\n",
       "      <td>28.64</td>\n",
       "      <td>1.25</td>\n",
       "      <td>12.99</td>\n",
       "      <td>0.33</td>\n",
       "    </tr>\n",
       "    <tr>\n",
       "      <th>9</th>\n",
       "      <td>39.47</td>\n",
       "      <td>77.48</td>\n",
       "      <td>5.67</td>\n",
       "      <td>20.61</td>\n",
       "      <td>17.46</td>\n",
       "      <td>34.32</td>\n",
       "      <td>0.91</td>\n",
       "      <td>11.08</td>\n",
       "      <td>42.76</td>\n",
       "      <td>1.54</td>\n",
       "      <td>18.47</td>\n",
       "      <td>0.37</td>\n",
       "    </tr>\n",
       "  </tbody>\n",
       "</table>\n",
       "</div>"
      ],
      "text/plain": [
       "   PM2.5    PM10     NO    NO2    NOx    NH3    CO    SO2     O3  Benzene  \\\n",
       "0  54.01  128.66   6.33  21.05  16.81  29.06  0.97  11.15  29.73     2.03   \n",
       "1  39.80   91.98   5.99  17.96  15.44  28.48  0.84  10.51  37.29     1.57   \n",
       "2  44.86  184.12  10.50  21.57  21.94  27.97  0.88  11.58  26.61     2.13   \n",
       "3  59.52  308.65  12.67  21.60  23.86  29.27  0.94  10.70  18.05     1.71   \n",
       "4  39.80  155.94  10.88  21.46  22.47  31.43  0.87  10.38  18.88     1.69   \n",
       "5  50.01  112.08   9.67  22.06  21.75  32.64  1.01  11.66  24.82     2.07   \n",
       "6  38.37   77.76   9.33  21.41  21.17  30.48  1.02  11.28  25.92     1.59   \n",
       "7  30.91   62.61   6.63  16.84  15.72  31.45  0.89  11.02  24.77     1.28   \n",
       "8  29.02   64.12   6.22  16.39  15.33  33.32  0.88  11.09  28.64     1.25   \n",
       "9  39.47   77.48   5.67  20.61  17.46  34.32  0.91  11.08  42.76     1.54   \n",
       "\n",
       "   Toluene  Xylene  \n",
       "0    23.57    0.65  \n",
       "1    16.37    0.49  \n",
       "2    23.80    1.13  \n",
       "3    25.13    1.74  \n",
       "4    19.99    0.43  \n",
       "5    23.31    0.70  \n",
       "6    19.18    0.49  \n",
       "7    12.13    0.27  \n",
       "8    12.99    0.33  \n",
       "9    18.47    0.37  "
      ]
     },
     "execution_count": 8,
     "metadata": {},
     "output_type": "execute_result"
    }
   ],
   "source": [
    "#Dataframe suitable for PCA\n",
    "df.head(10)"
   ]
  },
  {
   "cell_type": "code",
   "execution_count": 9,
   "metadata": {
    "scrolled": false
   },
   "outputs": [
    {
     "data": {
      "text/plain": [
       "12"
      ]
     },
     "execution_count": 9,
     "metadata": {},
     "output_type": "execute_result"
    }
   ],
   "source": [
    "#Check the number of features\n",
    "len(df.columns)"
   ]
  },
  {
   "cell_type": "markdown",
   "metadata": {},
   "source": [
    "# Checking the outliers through different methods"
   ]
  },
  {
   "cell_type": "code",
   "execution_count": 10,
   "metadata": {},
   "outputs": [
    {
     "data": {
      "text/plain": [
       "<AxesSubplot:>"
      ]
     },
     "execution_count": 10,
     "metadata": {},
     "output_type": "execute_result"
    },
    {
     "data": {
      "image/png": "[encoded data removed]",
      "text/plain": [
       "<Figure size 432x288 with 1 Axes>"
      ]
     },
     "metadata": {
      "needs_background": "light"
     },
     "output_type": "display_data"
    }
   ],
   "source": [
    "#Method-1\n",
    "df.plot(kind='box')"
   ]
  },
  {
   "cell_type": "code",
   "execution_count": 11,
   "metadata": {},
   "outputs": [
    {
     "data": {
      "image/png": "[encoded data removed]",
      "text/plain": [
       "<Figure size 864x576 with 12 Axes>"
      ]
     },
     "metadata": {
      "needs_background": "light"
     },
     "output_type": "display_data"
    }
   ],
   "source": [
    "#Method-2\n",
    "fig,axs=plt.subplots(nrows=3,ncols=4,figsize=(12,8))\n",
    "sns.boxplot(y=df['PM2.5'],ax=axs[0][0])\n",
    "sns.boxplot(y=df['PM10'],ax=axs[0][1])\n",
    "sns.boxplot(y=df['NO'],ax=axs[0][2])\n",
    "sns.boxplot(y=df['NO2'],ax=axs[0][3])\n",
    "sns.boxplot(y=df['NOx'],ax=axs[1][0])\n",
    "sns.boxplot(y=df['NH3'],ax=axs[1][1])\n",
    "sns.boxplot(y=df['CO'],ax=axs[1][2])\n",
    "sns.boxplot(y=df['SO2'],ax=axs[1][3])\n",
    "sns.boxplot(y=df['O3'],ax=axs[2][0])\n",
    "sns.boxplot(y=df['Benzene'],ax=axs[2][1])\n",
    "sns.boxplot(y=df['Toluene'],ax=axs[2][2])\n",
    "sns.boxplot(y=df['Xylene'],ax=axs[2][3])\n",
    "plt.tight_layout()\n",
    "plt.show()"
   ]
  },
  {
   "cell_type": "code",
   "execution_count": 12,
   "metadata": {
    "scrolled": false
   },
   "outputs": [
    {
     "data": {
      "image/png": "[encoded data removed]",
      "text/plain": [
       "<Figure size 864x576 with 12 Axes>"
      ]
     },
     "metadata": {
      "needs_background": "light"
     },
     "output_type": "display_data"
    }
   ],
   "source": [
    "#Check for presence of outliers in each feature\n",
    "plt.figure(figsize = (12,8))\n",
    "feature_list = df.columns\n",
    "for i in range(len(feature_list)):\n",
    "    plt.subplot(3, 4, i + 1)\n",
    "    sns.boxplot(y = df[feature_list[i]], data = df)\n",
    "    plt.title('Boxplot of {}'.format(feature_list[i]))\n",
    "    plt.tight_layout()"
   ]
  },
  {
   "cell_type": "code",
   "execution_count": 13,
   "metadata": {
    "scrolled": false
   },
   "outputs": [],
   "source": [
    "#Define a function which returns the Upper and Lower limit to detect outliers for each feature\n",
    "def remove_outlier(col):\n",
    "    Q1,Q3=col.quantile([0.25,0.75])\n",
    "    IQR=Q3-Q1\n",
    "    Lower_range=Q1-(1.5*IQR)\n",
    "    Upper_range=Q3+(1.5*IQR)\n",
    "    return Lower_range,Upper_range"
   ]
  },
  {
   "cell_type": "code",
   "execution_count": 14,
   "metadata": {},
   "outputs": [
    {
     "name": "stdout",
     "output_type": "stream",
     "text": [
      "Lower range -86.73500000000004\n",
      "upper range 296.82500000000005\n"
     ]
    }
   ],
   "source": [
    "lr,ur=remove_outlier(df['PM2.5'])\n",
    "print('Lower range',lr)\n",
    "print('upper range',ur)"
   ]
  },
  {
   "cell_type": "code",
   "execution_count": 15,
   "metadata": {
    "scrolled": false
   },
   "outputs": [],
   "source": [
    "#Cap & floor the values beyond the outlier boundaries\n",
    "for i in df.columns:\n",
    "    lr,ur=remove_outlier(df[i])\n",
    "    df[i]=np.where(df[i]<lr,lr,df[i])\n",
    "    df[i]=np.where(df[i]>ur,ur,df[i])"
   ]
  },
  {
   "cell_type": "code",
   "execution_count": 56,
   "metadata": {},
   "outputs": [
    {
     "data": {
      "text/html": [
       "<div>\n",
       "<style scoped>\n",
       "    .dataframe tbody tr th:only-of-type {\n",
       "        vertical-align: middle;\n",
       "    }\n",
       "\n",
       "    .dataframe tbody tr th {\n",
       "        vertical-align: top;\n",
       "    }\n",
       "\n",
       "    .dataframe thead th {\n",
       "        text-align: right;\n",
       "    }\n",
       "</style>\n",
       "<table border=\"1\" class=\"dataframe\">\n",
       "  <thead>\n",
       "    <tr style=\"text-align: right;\">\n",
       "      <th></th>\n",
       "      <th>PM2.5</th>\n",
       "      <th>PM10</th>\n",
       "      <th>NO</th>\n",
       "      <th>NO2</th>\n",
       "      <th>NOx</th>\n",
       "      <th>NH3</th>\n",
       "      <th>CO</th>\n",
       "      <th>SO2</th>\n",
       "      <th>O3</th>\n",
       "      <th>Benzene</th>\n",
       "      <th>Toluene</th>\n",
       "      <th>Xylene</th>\n",
       "    </tr>\n",
       "  </thead>\n",
       "  <tbody>\n",
       "    <tr>\n",
       "      <th>0</th>\n",
       "      <td>54.010</td>\n",
       "      <td>128.660</td>\n",
       "      <td>6.33</td>\n",
       "      <td>21.05</td>\n",
       "      <td>16.81</td>\n",
       "      <td>29.06</td>\n",
       "      <td>0.97</td>\n",
       "      <td>11.15</td>\n",
       "      <td>29.73</td>\n",
       "      <td>2.030</td>\n",
       "      <td>23.57</td>\n",
       "      <td>0.65</td>\n",
       "    </tr>\n",
       "    <tr>\n",
       "      <th>1</th>\n",
       "      <td>39.800</td>\n",
       "      <td>91.980</td>\n",
       "      <td>5.99</td>\n",
       "      <td>17.96</td>\n",
       "      <td>15.44</td>\n",
       "      <td>28.48</td>\n",
       "      <td>0.84</td>\n",
       "      <td>10.51</td>\n",
       "      <td>37.29</td>\n",
       "      <td>1.570</td>\n",
       "      <td>16.37</td>\n",
       "      <td>0.49</td>\n",
       "    </tr>\n",
       "    <tr>\n",
       "      <th>2</th>\n",
       "      <td>44.860</td>\n",
       "      <td>184.120</td>\n",
       "      <td>10.50</td>\n",
       "      <td>21.57</td>\n",
       "      <td>21.94</td>\n",
       "      <td>27.97</td>\n",
       "      <td>0.88</td>\n",
       "      <td>11.58</td>\n",
       "      <td>26.61</td>\n",
       "      <td>2.130</td>\n",
       "      <td>23.80</td>\n",
       "      <td>1.13</td>\n",
       "    </tr>\n",
       "    <tr>\n",
       "      <th>3</th>\n",
       "      <td>59.520</td>\n",
       "      <td>308.650</td>\n",
       "      <td>12.67</td>\n",
       "      <td>21.60</td>\n",
       "      <td>23.86</td>\n",
       "      <td>29.27</td>\n",
       "      <td>0.94</td>\n",
       "      <td>10.70</td>\n",
       "      <td>18.05</td>\n",
       "      <td>1.710</td>\n",
       "      <td>25.13</td>\n",
       "      <td>1.66</td>\n",
       "    </tr>\n",
       "    <tr>\n",
       "      <th>4</th>\n",
       "      <td>39.800</td>\n",
       "      <td>155.940</td>\n",
       "      <td>10.88</td>\n",
       "      <td>21.46</td>\n",
       "      <td>22.47</td>\n",
       "      <td>31.43</td>\n",
       "      <td>0.87</td>\n",
       "      <td>10.38</td>\n",
       "      <td>18.88</td>\n",
       "      <td>1.690</td>\n",
       "      <td>19.99</td>\n",
       "      <td>0.43</td>\n",
       "    </tr>\n",
       "    <tr>\n",
       "      <th>...</th>\n",
       "      <td>...</td>\n",
       "      <td>...</td>\n",
       "      <td>...</td>\n",
       "      <td>...</td>\n",
       "      <td>...</td>\n",
       "      <td>...</td>\n",
       "      <td>...</td>\n",
       "      <td>...</td>\n",
       "      <td>...</td>\n",
       "      <td>...</td>\n",
       "      <td>...</td>\n",
       "      <td>...</td>\n",
       "    </tr>\n",
       "    <tr>\n",
       "      <th>2004</th>\n",
       "      <td>146.600</td>\n",
       "      <td>219.130</td>\n",
       "      <td>14.01</td>\n",
       "      <td>34.92</td>\n",
       "      <td>38.25</td>\n",
       "      <td>74.87</td>\n",
       "      <td>3.31</td>\n",
       "      <td>3.33</td>\n",
       "      <td>23.20</td>\n",
       "      <td>2.800</td>\n",
       "      <td>6.21</td>\n",
       "      <td>1.66</td>\n",
       "    </tr>\n",
       "    <tr>\n",
       "      <th>2005</th>\n",
       "      <td>151.840</td>\n",
       "      <td>241.840</td>\n",
       "      <td>25.01</td>\n",
       "      <td>36.91</td>\n",
       "      <td>48.62</td>\n",
       "      <td>74.87</td>\n",
       "      <td>3.31</td>\n",
       "      <td>4.63</td>\n",
       "      <td>25.36</td>\n",
       "      <td>4.260</td>\n",
       "      <td>9.71</td>\n",
       "      <td>1.66</td>\n",
       "    </tr>\n",
       "    <tr>\n",
       "      <th>2006</th>\n",
       "      <td>87.180</td>\n",
       "      <td>131.900</td>\n",
       "      <td>25.73</td>\n",
       "      <td>30.31</td>\n",
       "      <td>47.95</td>\n",
       "      <td>69.55</td>\n",
       "      <td>3.31</td>\n",
       "      <td>2.65</td>\n",
       "      <td>19.71</td>\n",
       "      <td>3.910</td>\n",
       "      <td>10.23</td>\n",
       "      <td>1.66</td>\n",
       "    </tr>\n",
       "    <tr>\n",
       "      <th>2007</th>\n",
       "      <td>186.180</td>\n",
       "      <td>269.550</td>\n",
       "      <td>62.09</td>\n",
       "      <td>32.87</td>\n",
       "      <td>88.14</td>\n",
       "      <td>31.83</td>\n",
       "      <td>3.31</td>\n",
       "      <td>6.65</td>\n",
       "      <td>29.97</td>\n",
       "      <td>8.895</td>\n",
       "      <td>20.09</td>\n",
       "      <td>1.66</td>\n",
       "    </tr>\n",
       "    <tr>\n",
       "      <th>2008</th>\n",
       "      <td>296.825</td>\n",
       "      <td>560.235</td>\n",
       "      <td>69.16</td>\n",
       "      <td>36.39</td>\n",
       "      <td>110.59</td>\n",
       "      <td>33.85</td>\n",
       "      <td>3.31</td>\n",
       "      <td>9.25</td>\n",
       "      <td>41.68</td>\n",
       "      <td>8.895</td>\n",
       "      <td>24.86</td>\n",
       "      <td>1.66</td>\n",
       "    </tr>\n",
       "  </tbody>\n",
       "</table>\n",
       "<p>2009 rows × 12 columns</p>\n",
       "</div>"
      ],
      "text/plain": [
       "        PM2.5     PM10     NO    NO2     NOx    NH3    CO    SO2     O3  \\\n",
       "0      54.010  128.660   6.33  21.05   16.81  29.06  0.97  11.15  29.73   \n",
       "1      39.800   91.980   5.99  17.96   15.44  28.48  0.84  10.51  37.29   \n",
       "2      44.860  184.120  10.50  21.57   21.94  27.97  0.88  11.58  26.61   \n",
       "3      59.520  308.650  12.67  21.60   23.86  29.27  0.94  10.70  18.05   \n",
       "4      39.800  155.940  10.88  21.46   22.47  31.43  0.87  10.38  18.88   \n",
       "...       ...      ...    ...    ...     ...    ...   ...    ...    ...   \n",
       "2004  146.600  219.130  14.01  34.92   38.25  74.87  3.31   3.33  23.20   \n",
       "2005  151.840  241.840  25.01  36.91   48.62  74.87  3.31   4.63  25.36   \n",
       "2006   87.180  131.900  25.73  30.31   47.95  69.55  3.31   2.65  19.71   \n",
       "2007  186.180  269.550  62.09  32.87   88.14  31.83  3.31   6.65  29.97   \n",
       "2008  296.825  560.235  69.16  36.39  110.59  33.85  3.31   9.25  41.68   \n",
       "\n",
       "      Benzene  Toluene  Xylene  \n",
       "0       2.030    23.57    0.65  \n",
       "1       1.570    16.37    0.49  \n",
       "2       2.130    23.80    1.13  \n",
       "3       1.710    25.13    1.66  \n",
       "4       1.690    19.99    0.43  \n",
       "...       ...      ...     ...  \n",
       "2004    2.800     6.21    1.66  \n",
       "2005    4.260     9.71    1.66  \n",
       "2006    3.910    10.23    1.66  \n",
       "2007    8.895    20.09    1.66  \n",
       "2008    8.895    24.86    1.66  \n",
       "\n",
       "[2009 rows x 12 columns]"
      ]
     },
     "execution_count": 56,
     "metadata": {},
     "output_type": "execute_result"
    }
   ],
   "source": [
    "df"
   ]
  },
  {
   "cell_type": "code",
   "execution_count": 17,
   "metadata": {
    "scrolled": false
   },
   "outputs": [
    {
     "data": {
      "image/png": "[encoded data removed]",
      "text/plain": [
       "<Figure size 720x648 with 12 Axes>"
      ]
     },
     "metadata": {
      "needs_background": "light"
     },
     "output_type": "display_data"
    }
   ],
   "source": [
    "#Check to verify if outliers have been treated\n",
    "plt.figure(figsize=(10,9))\n",
    "feature=df.columns\n",
    "for i in range(len(feature)):\n",
    "    plt.subplot(3,4,i+1)\n",
    "    sns.boxplot(y=df[feature[i]])\n",
    "    plt.title('box plot for {}'.format(feature[i]))\n",
    "    plt.tight_layout()"
   ]
  },
  {
   "cell_type": "code",
   "execution_count": 18,
   "metadata": {
    "scrolled": false
   },
   "outputs": [
    {
     "data": {
      "text/html": [
       "<div>\n",
       "<style scoped>\n",
       "    .dataframe tbody tr th:only-of-type {\n",
       "        vertical-align: middle;\n",
       "    }\n",
       "\n",
       "    .dataframe tbody tr th {\n",
       "        vertical-align: top;\n",
       "    }\n",
       "\n",
       "    .dataframe thead th {\n",
       "        text-align: right;\n",
       "    }\n",
       "</style>\n",
       "<table border=\"1\" class=\"dataframe\">\n",
       "  <thead>\n",
       "    <tr style=\"text-align: right;\">\n",
       "      <th></th>\n",
       "      <th>count</th>\n",
       "      <th>mean</th>\n",
       "      <th>std</th>\n",
       "      <th>min</th>\n",
       "      <th>25%</th>\n",
       "      <th>50%</th>\n",
       "      <th>75%</th>\n",
       "      <th>max</th>\n",
       "    </tr>\n",
       "  </thead>\n",
       "  <tbody>\n",
       "    <tr>\n",
       "      <th>PM2.5</th>\n",
       "      <td>2009.0</td>\n",
       "      <td>114.304358</td>\n",
       "      <td>73.207550</td>\n",
       "      <td>10.24</td>\n",
       "      <td>57.10</td>\n",
       "      <td>94.62</td>\n",
       "      <td>152.99</td>\n",
       "      <td>296.825</td>\n",
       "    </tr>\n",
       "    <tr>\n",
       "      <th>PM10</th>\n",
       "      <td>2009.0</td>\n",
       "      <td>231.283146</td>\n",
       "      <td>116.454530</td>\n",
       "      <td>18.59</td>\n",
       "      <td>138.81</td>\n",
       "      <td>216.73</td>\n",
       "      <td>307.38</td>\n",
       "      <td>560.235</td>\n",
       "    </tr>\n",
       "    <tr>\n",
       "      <th>NO</th>\n",
       "      <td>2009.0</td>\n",
       "      <td>37.080572</td>\n",
       "      <td>27.868734</td>\n",
       "      <td>3.57</td>\n",
       "      <td>15.90</td>\n",
       "      <td>27.20</td>\n",
       "      <td>50.72</td>\n",
       "      <td>102.950</td>\n",
       "    </tr>\n",
       "    <tr>\n",
       "      <th>NO2</th>\n",
       "      <td>2009.0</td>\n",
       "      <td>50.418793</td>\n",
       "      <td>21.533088</td>\n",
       "      <td>10.63</td>\n",
       "      <td>33.90</td>\n",
       "      <td>47.15</td>\n",
       "      <td>63.57</td>\n",
       "      <td>108.075</td>\n",
       "    </tr>\n",
       "    <tr>\n",
       "      <th>NOx</th>\n",
       "      <td>2009.0</td>\n",
       "      <td>57.594064</td>\n",
       "      <td>34.831204</td>\n",
       "      <td>0.00</td>\n",
       "      <td>31.15</td>\n",
       "      <td>52.75</td>\n",
       "      <td>75.36</td>\n",
       "      <td>141.675</td>\n",
       "    </tr>\n",
       "    <tr>\n",
       "      <th>NH3</th>\n",
       "      <td>2009.0</td>\n",
       "      <td>41.004778</td>\n",
       "      <td>13.629083</td>\n",
       "      <td>6.78</td>\n",
       "      <td>31.22</td>\n",
       "      <td>38.04</td>\n",
       "      <td>48.68</td>\n",
       "      <td>74.870</td>\n",
       "    </tr>\n",
       "    <tr>\n",
       "      <th>CO</th>\n",
       "      <td>2009.0</td>\n",
       "      <td>1.457427</td>\n",
       "      <td>0.856552</td>\n",
       "      <td>0.00</td>\n",
       "      <td>0.91</td>\n",
       "      <td>1.24</td>\n",
       "      <td>1.87</td>\n",
       "      <td>3.310</td>\n",
       "    </tr>\n",
       "    <tr>\n",
       "      <th>SO2</th>\n",
       "      <td>2009.0</td>\n",
       "      <td>15.465983</td>\n",
       "      <td>6.480297</td>\n",
       "      <td>2.34</td>\n",
       "      <td>10.46</td>\n",
       "      <td>14.45</td>\n",
       "      <td>19.36</td>\n",
       "      <td>32.710</td>\n",
       "    </tr>\n",
       "    <tr>\n",
       "      <th>O3</th>\n",
       "      <td>2009.0</td>\n",
       "      <td>49.570667</td>\n",
       "      <td>20.892250</td>\n",
       "      <td>6.94</td>\n",
       "      <td>34.08</td>\n",
       "      <td>44.44</td>\n",
       "      <td>59.88</td>\n",
       "      <td>98.580</td>\n",
       "    </tr>\n",
       "    <tr>\n",
       "      <th>Benzene</th>\n",
       "      <td>2009.0</td>\n",
       "      <td>3.480214</td>\n",
       "      <td>2.228740</td>\n",
       "      <td>0.00</td>\n",
       "      <td>1.87</td>\n",
       "      <td>2.96</td>\n",
       "      <td>4.68</td>\n",
       "      <td>8.895</td>\n",
       "    </tr>\n",
       "    <tr>\n",
       "      <th>Toluene</th>\n",
       "      <td>2009.0</td>\n",
       "      <td>16.358808</td>\n",
       "      <td>12.623484</td>\n",
       "      <td>0.00</td>\n",
       "      <td>6.65</td>\n",
       "      <td>12.75</td>\n",
       "      <td>23.20</td>\n",
       "      <td>48.025</td>\n",
       "    </tr>\n",
       "    <tr>\n",
       "      <th>Xylene</th>\n",
       "      <td>2009.0</td>\n",
       "      <td>0.736013</td>\n",
       "      <td>0.522847</td>\n",
       "      <td>0.00</td>\n",
       "      <td>0.41</td>\n",
       "      <td>0.65</td>\n",
       "      <td>0.91</td>\n",
       "      <td>1.660</td>\n",
       "    </tr>\n",
       "  </tbody>\n",
       "</table>\n",
       "</div>"
      ],
      "text/plain": [
       "          count        mean         std    min     25%     50%     75%  \\\n",
       "PM2.5    2009.0  114.304358   73.207550  10.24   57.10   94.62  152.99   \n",
       "PM10     2009.0  231.283146  116.454530  18.59  138.81  216.73  307.38   \n",
       "NO       2009.0   37.080572   27.868734   3.57   15.90   27.20   50.72   \n",
       "NO2      2009.0   50.418793   21.533088  10.63   33.90   47.15   63.57   \n",
       "NOx      2009.0   57.594064   34.831204   0.00   31.15   52.75   75.36   \n",
       "NH3      2009.0   41.004778   13.629083   6.78   31.22   38.04   48.68   \n",
       "CO       2009.0    1.457427    0.856552   0.00    0.91    1.24    1.87   \n",
       "SO2      2009.0   15.465983    6.480297   2.34   10.46   14.45   19.36   \n",
       "O3       2009.0   49.570667   20.892250   6.94   34.08   44.44   59.88   \n",
       "Benzene  2009.0    3.480214    2.228740   0.00    1.87    2.96    4.68   \n",
       "Toluene  2009.0   16.358808   12.623484   0.00    6.65   12.75   23.20   \n",
       "Xylene   2009.0    0.736013    0.522847   0.00    0.41    0.65    0.91   \n",
       "\n",
       "             max  \n",
       "PM2.5    296.825  \n",
       "PM10     560.235  \n",
       "NO       102.950  \n",
       "NO2      108.075  \n",
       "NOx      141.675  \n",
       "NH3       74.870  \n",
       "CO         3.310  \n",
       "SO2       32.710  \n",
       "O3        98.580  \n",
       "Benzene    8.895  \n",
       "Toluene   48.025  \n",
       "Xylene     1.660  "
      ]
     },
     "execution_count": 18,
     "metadata": {},
     "output_type": "execute_result"
    }
   ],
   "source": [
    "#Check the descriptive stats to observe scale issues between the variables\n",
    "df.describe().T"
   ]
  },
  {
   "cell_type": "code",
   "execution_count": 19,
   "metadata": {
    "scrolled": false
   },
   "outputs": [],
   "source": [
    "#Scale the data\n",
    "from scipy.stats import zscore\n",
    "df_scaled=df.apply(zscore)"
   ]
  },
  {
   "cell_type": "code",
   "execution_count": 20,
   "metadata": {
    "scrolled": false
   },
   "outputs": [
    {
     "data": {
      "text/html": [
       "<div>\n",
       "<style scoped>\n",
       "    .dataframe tbody tr th:only-of-type {\n",
       "        vertical-align: middle;\n",
       "    }\n",
       "\n",
       "    .dataframe tbody tr th {\n",
       "        vertical-align: top;\n",
       "    }\n",
       "\n",
       "    .dataframe thead th {\n",
       "        text-align: right;\n",
       "    }\n",
       "</style>\n",
       "<table border=\"1\" class=\"dataframe\">\n",
       "  <thead>\n",
       "    <tr style=\"text-align: right;\">\n",
       "      <th></th>\n",
       "      <th>PM2.5</th>\n",
       "      <th>PM10</th>\n",
       "      <th>NO</th>\n",
       "      <th>NO2</th>\n",
       "      <th>NOx</th>\n",
       "      <th>NH3</th>\n",
       "      <th>CO</th>\n",
       "      <th>SO2</th>\n",
       "      <th>O3</th>\n",
       "      <th>Benzene</th>\n",
       "      <th>Toluene</th>\n",
       "      <th>Xylene</th>\n",
       "    </tr>\n",
       "  </thead>\n",
       "  <tbody>\n",
       "    <tr>\n",
       "      <th>0</th>\n",
       "      <td>-0.823814</td>\n",
       "      <td>-0.881449</td>\n",
       "      <td>-1.103682</td>\n",
       "      <td>-1.364231</td>\n",
       "      <td>-1.171197</td>\n",
       "      <td>-0.876637</td>\n",
       "      <td>-0.569198</td>\n",
       "      <td>-0.666182</td>\n",
       "      <td>-0.949903</td>\n",
       "      <td>-0.650850</td>\n",
       "      <td>0.571394</td>\n",
       "      <td>-0.164550</td>\n",
       "    </tr>\n",
       "    <tr>\n",
       "      <th>1</th>\n",
       "      <td>-1.017968</td>\n",
       "      <td>-1.196500</td>\n",
       "      <td>-1.115885</td>\n",
       "      <td>-1.507767</td>\n",
       "      <td>-1.210540</td>\n",
       "      <td>-0.919203</td>\n",
       "      <td>-0.721007</td>\n",
       "      <td>-0.764968</td>\n",
       "      <td>-0.587956</td>\n",
       "      <td>-0.857296</td>\n",
       "      <td>0.000887</td>\n",
       "      <td>-0.470643</td>\n",
       "    </tr>\n",
       "    <tr>\n",
       "      <th>2</th>\n",
       "      <td>-0.948832</td>\n",
       "      <td>-0.405093</td>\n",
       "      <td>-0.954015</td>\n",
       "      <td>-1.340076</td>\n",
       "      <td>-1.023879</td>\n",
       "      <td>-0.956633</td>\n",
       "      <td>-0.674297</td>\n",
       "      <td>-0.599811</td>\n",
       "      <td>-1.099278</td>\n",
       "      <td>-0.605970</td>\n",
       "      <td>0.589619</td>\n",
       "      <td>0.753730</td>\n",
       "    </tr>\n",
       "    <tr>\n",
       "      <th>3</th>\n",
       "      <td>-0.748529</td>\n",
       "      <td>0.664518</td>\n",
       "      <td>-0.876131</td>\n",
       "      <td>-1.338682</td>\n",
       "      <td>-0.968742</td>\n",
       "      <td>-0.861224</td>\n",
       "      <td>-0.604231</td>\n",
       "      <td>-0.735641</td>\n",
       "      <td>-1.509101</td>\n",
       "      <td>-0.794465</td>\n",
       "      <td>0.695004</td>\n",
       "      <td>1.767664</td>\n",
       "    </tr>\n",
       "    <tr>\n",
       "      <th>4</th>\n",
       "      <td>-1.017968</td>\n",
       "      <td>-0.647136</td>\n",
       "      <td>-0.940376</td>\n",
       "      <td>-1.345186</td>\n",
       "      <td>-1.008659</td>\n",
       "      <td>-0.702700</td>\n",
       "      <td>-0.685974</td>\n",
       "      <td>-0.785033</td>\n",
       "      <td>-1.469363</td>\n",
       "      <td>-0.803441</td>\n",
       "      <td>0.287725</td>\n",
       "      <td>-0.585428</td>\n",
       "    </tr>\n",
       "  </tbody>\n",
       "</table>\n",
       "</div>"
      ],
      "text/plain": [
       "      PM2.5      PM10        NO       NO2       NOx       NH3        CO  \\\n",
       "0 -0.823814 -0.881449 -1.103682 -1.364231 -1.171197 -0.876637 -0.569198   \n",
       "1 -1.017968 -1.196500 -1.115885 -1.507767 -1.210540 -0.919203 -0.721007   \n",
       "2 -0.948832 -0.405093 -0.954015 -1.340076 -1.023879 -0.956633 -0.674297   \n",
       "3 -0.748529  0.664518 -0.876131 -1.338682 -0.968742 -0.861224 -0.604231   \n",
       "4 -1.017968 -0.647136 -0.940376 -1.345186 -1.008659 -0.702700 -0.685974   \n",
       "\n",
       "        SO2        O3   Benzene   Toluene    Xylene  \n",
       "0 -0.666182 -0.949903 -0.650850  0.571394 -0.164550  \n",
       "1 -0.764968 -0.587956 -0.857296  0.000887 -0.470643  \n",
       "2 -0.599811 -1.099278 -0.605970  0.589619  0.753730  \n",
       "3 -0.735641 -1.509101 -0.794465  0.695004  1.767664  \n",
       "4 -0.785033 -1.469363 -0.803441  0.287725 -0.585428  "
      ]
     },
     "execution_count": 20,
     "metadata": {},
     "output_type": "execute_result"
    }
   ],
   "source": [
    "#Check the data post scaling\n",
    "df_scaled.head()"
   ]
  },
  {
   "cell_type": "code",
   "execution_count": 21,
   "metadata": {},
   "outputs": [
    {
     "data": {
      "image/png": "[encoded data removed]",
      "text/plain": [
       "<Figure size 720x576 with 2 Axes>"
      ]
     },
     "metadata": {
      "needs_background": "light"
     },
     "output_type": "display_data"
    }
   ],
   "source": [
    "#Check for presence of correlations with mask on top half\n",
    "plt.figure(figsize = (10,8))\n",
    "mask=np.triu(np.ones_like(df_scaled.corr()))\n",
    "sns.heatmap(df_scaled.corr(), annot=True,fmt='.2f',mask=mask);"
   ]
  },
  {
   "cell_type": "code",
   "execution_count": 22,
   "metadata": {
    "scrolled": false
   },
   "outputs": [
    {
     "data": {
      "text/plain": [
       "<AxesSubplot:>"
      ]
     },
     "execution_count": 22,
     "metadata": {},
     "output_type": "execute_result"
    },
    {
     "data": {
      "image/png": "[encoded data removed]",
      "text/plain": [
       "<Figure size 720x648 with 2 Axes>"
      ]
     },
     "metadata": {
      "needs_background": "light"
     },
     "output_type": "display_data"
    }
   ],
   "source": [
    "#Check for presence of correlations\n",
    "plt.figure(figsize=(10,9))\n",
    "sns.heatmap(df_scaled.corr(),annot=True)"
   ]
  },
  {
   "cell_type": "code",
   "execution_count": 23,
   "metadata": {
    "scrolled": false
   },
   "outputs": [
    {
     "data": {
      "text/plain": [
       "0.0"
      ]
     },
     "execution_count": 23,
     "metadata": {},
     "output_type": "execute_result"
    }
   ],
   "source": [
    "#Confirm the statistical significance of correlations\n",
    "#H0: Correlations are not significant, H1: There are significant correlations\n",
    "#Reject H0 if p-value < 0.05\n",
    "from factor_analyzer.factor_analyzer import calculate_bartlett_sphericity\n",
    "chi_square,p_value=calculate_bartlett_sphericity(df_scaled)\n",
    "p_value"
   ]
  },
  {
   "cell_type": "code",
   "execution_count": 24,
   "metadata": {
    "scrolled": false
   },
   "outputs": [
    {
     "data": {
      "text/plain": [
       "0.8376519436323343"
      ]
     },
     "execution_count": 24,
     "metadata": {},
     "output_type": "execute_result"
    }
   ],
   "source": [
    "#Confirm the adequacy of sample size. \n",
    "#Note: Above 0.7 is good, below 0.5 is not acceptable\n",
    "from factor_analyzer.factor_analyzer import calculate_kmo\n",
    "kmo_all,kmo_model=calculate_kmo(df_scaled)\n",
    "kmo_model"
   ]
  },
  {
   "cell_type": "code",
   "execution_count": 25,
   "metadata": {
    "scrolled": false
   },
   "outputs": [],
   "source": [
    "#Apply PCA taking all features\n",
    "from sklearn.decomposition import PCA\n",
    "pca=PCA(n_components=12,random_state=123)\n",
    "pca_transformed=pca.fit_transform(df_scaled)"
   ]
  },
  {
   "cell_type": "code",
   "execution_count": 26,
   "metadata": {
    "scrolled": false
   },
   "outputs": [
    {
     "data": {
      "text/plain": [
       "array([[ 0.36757983,  0.35874864,  0.3586897 ,  0.34856375,  0.31661476,\n",
       "         0.27264851,  0.22407402,  0.2354441 ,  0.14900296,  0.35967138,\n",
       "         0.20036925,  0.11870582],\n",
       "       [ 0.01788055,  0.12180783,  0.07920562,  0.25502423, -0.07185109,\n",
       "         0.06976372, -0.37463646,  0.38778796,  0.33653904, -0.20718676,\n",
       "        -0.41848144, -0.53052722],\n",
       "       [-0.10244197, -0.1082965 , -0.23877719, -0.02680145,  0.329494  ,\n",
       "        -0.04259609,  0.46126311, -0.1934286 ,  0.65938621, -0.06805854,\n",
       "        -0.32861601,  0.10988637],\n",
       "       [ 0.2517615 ,  0.14172243, -0.04998115, -0.05800976, -0.19614686,\n",
       "         0.64557842,  0.21025355, -0.42214395, -0.25004424, -0.10221822,\n",
       "        -0.35987447, -0.17472887],\n",
       "       [-0.02951417, -0.10587218, -0.06664532, -0.15232101,  0.3156141 ,\n",
       "         0.03492092,  0.00652305, -0.27840717,  0.07088788,  0.1881715 ,\n",
       "         0.44708658, -0.73591565],\n",
       "       [-0.33778676, -0.35252369,  0.38787525,  0.34686121,  0.49700404,\n",
       "         0.18451077, -0.20320897, -0.22301716, -0.21810356, -0.20738014,\n",
       "        -0.12560924,  0.11147241],\n",
       "       [ 0.06563324,  0.12375596, -0.14457983,  0.02262857, -0.09388006,\n",
       "         0.27700264, -0.60703311, -0.36527962,  0.44866553, -0.02001182,\n",
       "         0.28029185,  0.30205016],\n",
       "       [ 0.27566473,  0.46946395,  0.19819553, -0.05234811,  0.21837965,\n",
       "        -0.5669765 , -0.15271419, -0.43768945, -0.10139654, -0.09041726,\n",
       "        -0.24071278, -0.03385089],\n",
       "       [ 0.08630889, -0.19256102,  0.12658272, -0.57691351,  0.22711834,\n",
       "         0.11542776, -0.29822569,  0.13555367, -0.00258175,  0.53123794,\n",
       "        -0.38061592,  0.08549909],\n",
       "       [-0.12323599, -0.21886613,  0.15580356,  0.42173106, -0.44643724,\n",
       "        -0.19386918,  0.03258363, -0.32222979,  0.10317314,  0.58920379,\n",
       "        -0.16743865, -0.08456931],\n",
       "       [-0.16435551,  0.01597716,  0.73600924, -0.38536644, -0.30252698,\n",
       "         0.03979365,  0.17069172, -0.06325655,  0.29371465, -0.2245804 ,\n",
       "         0.13633232, -0.03131745],\n",
       "       [ 0.73876135, -0.60680943,  0.09205628,  0.05849928, -0.04486307,\n",
       "        -0.12751874, -0.01360063, -0.01047633,  0.07830299, -0.21407386,\n",
       "         0.05971928,  0.00486172]])"
      ]
     },
     "execution_count": 26,
     "metadata": {},
     "output_type": "execute_result"
    }
   ],
   "source": [
    "#Extract eigen vectors\n",
    "pca.components_"
   ]
  },
  {
   "cell_type": "code",
   "execution_count": 27,
   "metadata": {
    "scrolled": false
   },
   "outputs": [
    {
     "data": {
      "text/plain": [
       "array([5.71418983, 1.73516949, 1.14758734, 0.95455182, 0.63944041,\n",
       "       0.46998204, 0.36503474, 0.34686872, 0.1906889 , 0.16883957,\n",
       "       0.15442402, 0.11919921])"
      ]
     },
     "execution_count": 27,
     "metadata": {},
     "output_type": "execute_result"
    }
   ],
   "source": [
    "#Check the eigen values\n",
    "#Note: This is always returned in descending order\n",
    "pca.explained_variance_"
   ]
  },
  {
   "cell_type": "code",
   "execution_count": 28,
   "metadata": {
    "scrolled": false
   },
   "outputs": [
    {
     "data": {
      "text/plain": [
       "array([0.47594546, 0.14452548, 0.09558468, 0.07950639, 0.05326018,\n",
       "       0.03914568, 0.03040442, 0.02889134, 0.01588283, 0.01406296,\n",
       "       0.01286226, 0.00992832])"
      ]
     },
     "execution_count": 28,
     "metadata": {},
     "output_type": "execute_result"
    }
   ],
   "source": [
    "#Check the explained variance for each PC\n",
    "#Note: Explained variance = (eigen value of each PC)/(sum of eigen values of all PCs)\n",
    "pca.explained_variance_ratio_"
   ]
  },
  {
   "cell_type": "code",
   "execution_count": 29,
   "metadata": {
    "scrolled": false
   },
   "outputs": [],
   "source": [
    "#Create a dataframe containing the loadings or coefficients of all PCs\n",
    "pca_loadings=pd.DataFrame(pca.components_.T,columns=['PC1','PC2','PC3','PC4','PC5','PC6','PC7','PC8','PC9','PC10','PC11','PC12'],index=df_scaled.columns)"
   ]
  },
  {
   "cell_type": "code",
   "execution_count": 30,
   "metadata": {
    "scrolled": false
   },
   "outputs": [
    {
     "data": {
      "text/html": [
       "<div>\n",
       "<style scoped>\n",
       "    .dataframe tbody tr th:only-of-type {\n",
       "        vertical-align: middle;\n",
       "    }\n",
       "\n",
       "    .dataframe tbody tr th {\n",
       "        vertical-align: top;\n",
       "    }\n",
       "\n",
       "    .dataframe thead th {\n",
       "        text-align: right;\n",
       "    }\n",
       "</style>\n",
       "<table border=\"1\" class=\"dataframe\">\n",
       "  <thead>\n",
       "    <tr style=\"text-align: right;\">\n",
       "      <th></th>\n",
       "      <th>PC1</th>\n",
       "      <th>PC2</th>\n",
       "      <th>PC3</th>\n",
       "      <th>PC4</th>\n",
       "      <th>PC5</th>\n",
       "      <th>PC6</th>\n",
       "      <th>PC7</th>\n",
       "      <th>PC8</th>\n",
       "      <th>PC9</th>\n",
       "      <th>PC10</th>\n",
       "      <th>PC11</th>\n",
       "      <th>PC12</th>\n",
       "    </tr>\n",
       "  </thead>\n",
       "  <tbody>\n",
       "    <tr>\n",
       "      <th>PM2.5</th>\n",
       "      <td>0.367580</td>\n",
       "      <td>0.017881</td>\n",
       "      <td>-0.102442</td>\n",
       "      <td>0.251761</td>\n",
       "      <td>-0.029514</td>\n",
       "      <td>-0.337787</td>\n",
       "      <td>0.065633</td>\n",
       "      <td>0.275665</td>\n",
       "      <td>0.086309</td>\n",
       "      <td>-0.123236</td>\n",
       "      <td>-0.164356</td>\n",
       "      <td>0.738761</td>\n",
       "    </tr>\n",
       "    <tr>\n",
       "      <th>PM10</th>\n",
       "      <td>0.358749</td>\n",
       "      <td>0.121808</td>\n",
       "      <td>-0.108297</td>\n",
       "      <td>0.141722</td>\n",
       "      <td>-0.105872</td>\n",
       "      <td>-0.352524</td>\n",
       "      <td>0.123756</td>\n",
       "      <td>0.469464</td>\n",
       "      <td>-0.192561</td>\n",
       "      <td>-0.218866</td>\n",
       "      <td>0.015977</td>\n",
       "      <td>-0.606809</td>\n",
       "    </tr>\n",
       "    <tr>\n",
       "      <th>NO</th>\n",
       "      <td>0.358690</td>\n",
       "      <td>0.079206</td>\n",
       "      <td>-0.238777</td>\n",
       "      <td>-0.049981</td>\n",
       "      <td>-0.066645</td>\n",
       "      <td>0.387875</td>\n",
       "      <td>-0.144580</td>\n",
       "      <td>0.198196</td>\n",
       "      <td>0.126583</td>\n",
       "      <td>0.155804</td>\n",
       "      <td>0.736009</td>\n",
       "      <td>0.092056</td>\n",
       "    </tr>\n",
       "    <tr>\n",
       "      <th>NO2</th>\n",
       "      <td>0.348564</td>\n",
       "      <td>0.255024</td>\n",
       "      <td>-0.026801</td>\n",
       "      <td>-0.058010</td>\n",
       "      <td>-0.152321</td>\n",
       "      <td>0.346861</td>\n",
       "      <td>0.022629</td>\n",
       "      <td>-0.052348</td>\n",
       "      <td>-0.576914</td>\n",
       "      <td>0.421731</td>\n",
       "      <td>-0.385366</td>\n",
       "      <td>0.058499</td>\n",
       "    </tr>\n",
       "    <tr>\n",
       "      <th>NOx</th>\n",
       "      <td>0.316615</td>\n",
       "      <td>-0.071851</td>\n",
       "      <td>0.329494</td>\n",
       "      <td>-0.196147</td>\n",
       "      <td>0.315614</td>\n",
       "      <td>0.497004</td>\n",
       "      <td>-0.093880</td>\n",
       "      <td>0.218380</td>\n",
       "      <td>0.227118</td>\n",
       "      <td>-0.446437</td>\n",
       "      <td>-0.302527</td>\n",
       "      <td>-0.044863</td>\n",
       "    </tr>\n",
       "    <tr>\n",
       "      <th>NH3</th>\n",
       "      <td>0.272649</td>\n",
       "      <td>0.069764</td>\n",
       "      <td>-0.042596</td>\n",
       "      <td>0.645578</td>\n",
       "      <td>0.034921</td>\n",
       "      <td>0.184511</td>\n",
       "      <td>0.277003</td>\n",
       "      <td>-0.566976</td>\n",
       "      <td>0.115428</td>\n",
       "      <td>-0.193869</td>\n",
       "      <td>0.039794</td>\n",
       "      <td>-0.127519</td>\n",
       "    </tr>\n",
       "    <tr>\n",
       "      <th>CO</th>\n",
       "      <td>0.224074</td>\n",
       "      <td>-0.374636</td>\n",
       "      <td>0.461263</td>\n",
       "      <td>0.210254</td>\n",
       "      <td>0.006523</td>\n",
       "      <td>-0.203209</td>\n",
       "      <td>-0.607033</td>\n",
       "      <td>-0.152714</td>\n",
       "      <td>-0.298226</td>\n",
       "      <td>0.032584</td>\n",
       "      <td>0.170692</td>\n",
       "      <td>-0.013601</td>\n",
       "    </tr>\n",
       "    <tr>\n",
       "      <th>SO2</th>\n",
       "      <td>0.235444</td>\n",
       "      <td>0.387788</td>\n",
       "      <td>-0.193429</td>\n",
       "      <td>-0.422144</td>\n",
       "      <td>-0.278407</td>\n",
       "      <td>-0.223017</td>\n",
       "      <td>-0.365280</td>\n",
       "      <td>-0.437689</td>\n",
       "      <td>0.135554</td>\n",
       "      <td>-0.322230</td>\n",
       "      <td>-0.063257</td>\n",
       "      <td>-0.010476</td>\n",
       "    </tr>\n",
       "    <tr>\n",
       "      <th>O3</th>\n",
       "      <td>0.149003</td>\n",
       "      <td>0.336539</td>\n",
       "      <td>0.659386</td>\n",
       "      <td>-0.250044</td>\n",
       "      <td>0.070888</td>\n",
       "      <td>-0.218104</td>\n",
       "      <td>0.448666</td>\n",
       "      <td>-0.101397</td>\n",
       "      <td>-0.002582</td>\n",
       "      <td>0.103173</td>\n",
       "      <td>0.293715</td>\n",
       "      <td>0.078303</td>\n",
       "    </tr>\n",
       "    <tr>\n",
       "      <th>Benzene</th>\n",
       "      <td>0.359671</td>\n",
       "      <td>-0.207187</td>\n",
       "      <td>-0.068059</td>\n",
       "      <td>-0.102218</td>\n",
       "      <td>0.188172</td>\n",
       "      <td>-0.207380</td>\n",
       "      <td>-0.020012</td>\n",
       "      <td>-0.090417</td>\n",
       "      <td>0.531238</td>\n",
       "      <td>0.589204</td>\n",
       "      <td>-0.224580</td>\n",
       "      <td>-0.214074</td>\n",
       "    </tr>\n",
       "    <tr>\n",
       "      <th>Toluene</th>\n",
       "      <td>0.200369</td>\n",
       "      <td>-0.418481</td>\n",
       "      <td>-0.328616</td>\n",
       "      <td>-0.359874</td>\n",
       "      <td>0.447087</td>\n",
       "      <td>-0.125609</td>\n",
       "      <td>0.280292</td>\n",
       "      <td>-0.240713</td>\n",
       "      <td>-0.380616</td>\n",
       "      <td>-0.167439</td>\n",
       "      <td>0.136332</td>\n",
       "      <td>0.059719</td>\n",
       "    </tr>\n",
       "    <tr>\n",
       "      <th>Xylene</th>\n",
       "      <td>0.118706</td>\n",
       "      <td>-0.530527</td>\n",
       "      <td>0.109886</td>\n",
       "      <td>-0.174729</td>\n",
       "      <td>-0.735916</td>\n",
       "      <td>0.111472</td>\n",
       "      <td>0.302050</td>\n",
       "      <td>-0.033851</td>\n",
       "      <td>0.085499</td>\n",
       "      <td>-0.084569</td>\n",
       "      <td>-0.031317</td>\n",
       "      <td>0.004862</td>\n",
       "    </tr>\n",
       "  </tbody>\n",
       "</table>\n",
       "</div>"
      ],
      "text/plain": [
       "              PC1       PC2       PC3       PC4       PC5       PC6       PC7  \\\n",
       "PM2.5    0.367580  0.017881 -0.102442  0.251761 -0.029514 -0.337787  0.065633   \n",
       "PM10     0.358749  0.121808 -0.108297  0.141722 -0.105872 -0.352524  0.123756   \n",
       "NO       0.358690  0.079206 -0.238777 -0.049981 -0.066645  0.387875 -0.144580   \n",
       "NO2      0.348564  0.255024 -0.026801 -0.058010 -0.152321  0.346861  0.022629   \n",
       "NOx      0.316615 -0.071851  0.329494 -0.196147  0.315614  0.497004 -0.093880   \n",
       "NH3      0.272649  0.069764 -0.042596  0.645578  0.034921  0.184511  0.277003   \n",
       "CO       0.224074 -0.374636  0.461263  0.210254  0.006523 -0.203209 -0.607033   \n",
       "SO2      0.235444  0.387788 -0.193429 -0.422144 -0.278407 -0.223017 -0.365280   \n",
       "O3       0.149003  0.336539  0.659386 -0.250044  0.070888 -0.218104  0.448666   \n",
       "Benzene  0.359671 -0.207187 -0.068059 -0.102218  0.188172 -0.207380 -0.020012   \n",
       "Toluene  0.200369 -0.418481 -0.328616 -0.359874  0.447087 -0.125609  0.280292   \n",
       "Xylene   0.118706 -0.530527  0.109886 -0.174729 -0.735916  0.111472  0.302050   \n",
       "\n",
       "              PC8       PC9      PC10      PC11      PC12  \n",
       "PM2.5    0.275665  0.086309 -0.123236 -0.164356  0.738761  \n",
       "PM10     0.469464 -0.192561 -0.218866  0.015977 -0.606809  \n",
       "NO       0.198196  0.126583  0.155804  0.736009  0.092056  \n",
       "NO2     -0.052348 -0.576914  0.421731 -0.385366  0.058499  \n",
       "NOx      0.218380  0.227118 -0.446437 -0.302527 -0.044863  \n",
       "NH3     -0.566976  0.115428 -0.193869  0.039794 -0.127519  \n",
       "CO      -0.152714 -0.298226  0.032584  0.170692 -0.013601  \n",
       "SO2     -0.437689  0.135554 -0.322230 -0.063257 -0.010476  \n",
       "O3      -0.101397 -0.002582  0.103173  0.293715  0.078303  \n",
       "Benzene -0.090417  0.531238  0.589204 -0.224580 -0.214074  \n",
       "Toluene -0.240713 -0.380616 -0.167439  0.136332  0.059719  \n",
       "Xylene  -0.033851  0.085499 -0.084569 -0.031317  0.004862  "
      ]
     },
     "execution_count": 30,
     "metadata": {},
     "output_type": "execute_result"
    }
   ],
   "source": [
    "pca_loadings"
   ]
  },
  {
   "cell_type": "code",
   "execution_count": 31,
   "metadata": {
    "scrolled": false
   },
   "outputs": [
    {
     "data": {
      "image/png": "[encoded data removed]",
      "text/plain": [
       "<Figure size 720x648 with 1 Axes>"
      ]
     },
     "metadata": {
      "needs_background": "light"
     },
     "output_type": "display_data"
    }
   ],
   "source": [
    "#Create a scree plot\n",
    "plt.figure(figsize=(10,9))\n",
    "sns.lineplot(y=pca.explained_variance_ratio_,x=range(1,13),marker='o')\n",
    "plt.xlabel('Number of Components',fontsize=10)\n",
    "plt.ylabel('Variance Explained',fontsize=10)\n",
    "plt.title('Scree Plot',fontsize=12)\n",
    "plt.grid()\n",
    "plt.show()"
   ]
  },
  {
   "cell_type": "code",
   "execution_count": 32,
   "metadata": {
    "scrolled": false
   },
   "outputs": [
    {
     "data": {
      "text/plain": [
       "array([0.47594546, 0.62047094, 0.71605562, 0.79556201, 0.84882219,\n",
       "       0.88796786, 0.91837228, 0.94726362, 0.96314645, 0.97720941,\n",
       "       0.99007168, 1.        ])"
      ]
     },
     "execution_count": 32,
     "metadata": {},
     "output_type": "execute_result"
    }
   ],
   "source": [
    "#Check the cumlative explained variance ratio to find a cut off for selecting the number of PCs\n",
    "np.cumsum(pca.explained_variance_ratio_)"
   ]
  },
  {
   "cell_type": "code",
   "execution_count": 33,
   "metadata": {
    "scrolled": false
   },
   "outputs": [],
   "source": [
    "#Choose the PCs basis cumulative explained variance\n",
    "pca_selected=pca_loadings.iloc[:,0:5]"
   ]
  },
  {
   "cell_type": "code",
   "execution_count": 40,
   "metadata": {
    "scrolled": false
   },
   "outputs": [
    {
     "data": {
      "text/html": [
       "<div>\n",
       "<style scoped>\n",
       "    .dataframe tbody tr th:only-of-type {\n",
       "        vertical-align: middle;\n",
       "    }\n",
       "\n",
       "    .dataframe tbody tr th {\n",
       "        vertical-align: top;\n",
       "    }\n",
       "\n",
       "    .dataframe thead th {\n",
       "        text-align: right;\n",
       "    }\n",
       "</style>\n",
       "<table border=\"1\" class=\"dataframe\">\n",
       "  <thead>\n",
       "    <tr style=\"text-align: right;\">\n",
       "      <th></th>\n",
       "      <th>PC1</th>\n",
       "      <th>PC2</th>\n",
       "      <th>PC3</th>\n",
       "      <th>PC4</th>\n",
       "      <th>PC5</th>\n",
       "    </tr>\n",
       "  </thead>\n",
       "  <tbody>\n",
       "    <tr>\n",
       "      <th>PM2.5</th>\n",
       "      <td>0.367580</td>\n",
       "      <td>0.017881</td>\n",
       "      <td>-0.102442</td>\n",
       "      <td>0.251761</td>\n",
       "      <td>-0.029514</td>\n",
       "    </tr>\n",
       "    <tr>\n",
       "      <th>PM10</th>\n",
       "      <td>0.358749</td>\n",
       "      <td>0.121808</td>\n",
       "      <td>-0.108297</td>\n",
       "      <td>0.141722</td>\n",
       "      <td>-0.105872</td>\n",
       "    </tr>\n",
       "    <tr>\n",
       "      <th>NO</th>\n",
       "      <td>0.358690</td>\n",
       "      <td>0.079206</td>\n",
       "      <td>-0.238777</td>\n",
       "      <td>-0.049981</td>\n",
       "      <td>-0.066645</td>\n",
       "    </tr>\n",
       "    <tr>\n",
       "      <th>NO2</th>\n",
       "      <td>0.348564</td>\n",
       "      <td>0.255024</td>\n",
       "      <td>-0.026801</td>\n",
       "      <td>-0.058010</td>\n",
       "      <td>-0.152321</td>\n",
       "    </tr>\n",
       "    <tr>\n",
       "      <th>NOx</th>\n",
       "      <td>0.316615</td>\n",
       "      <td>-0.071851</td>\n",
       "      <td>0.329494</td>\n",
       "      <td>-0.196147</td>\n",
       "      <td>0.315614</td>\n",
       "    </tr>\n",
       "    <tr>\n",
       "      <th>NH3</th>\n",
       "      <td>0.272649</td>\n",
       "      <td>0.069764</td>\n",
       "      <td>-0.042596</td>\n",
       "      <td>0.645578</td>\n",
       "      <td>0.034921</td>\n",
       "    </tr>\n",
       "    <tr>\n",
       "      <th>CO</th>\n",
       "      <td>0.224074</td>\n",
       "      <td>-0.374636</td>\n",
       "      <td>0.461263</td>\n",
       "      <td>0.210254</td>\n",
       "      <td>0.006523</td>\n",
       "    </tr>\n",
       "    <tr>\n",
       "      <th>SO2</th>\n",
       "      <td>0.235444</td>\n",
       "      <td>0.387788</td>\n",
       "      <td>-0.193429</td>\n",
       "      <td>-0.422144</td>\n",
       "      <td>-0.278407</td>\n",
       "    </tr>\n",
       "    <tr>\n",
       "      <th>O3</th>\n",
       "      <td>0.149003</td>\n",
       "      <td>0.336539</td>\n",
       "      <td>0.659386</td>\n",
       "      <td>-0.250044</td>\n",
       "      <td>0.070888</td>\n",
       "    </tr>\n",
       "    <tr>\n",
       "      <th>Benzene</th>\n",
       "      <td>0.359671</td>\n",
       "      <td>-0.207187</td>\n",
       "      <td>-0.068059</td>\n",
       "      <td>-0.102218</td>\n",
       "      <td>0.188172</td>\n",
       "    </tr>\n",
       "    <tr>\n",
       "      <th>Toluene</th>\n",
       "      <td>0.200369</td>\n",
       "      <td>-0.418481</td>\n",
       "      <td>-0.328616</td>\n",
       "      <td>-0.359874</td>\n",
       "      <td>0.447087</td>\n",
       "    </tr>\n",
       "    <tr>\n",
       "      <th>Xylene</th>\n",
       "      <td>0.118706</td>\n",
       "      <td>-0.530527</td>\n",
       "      <td>0.109886</td>\n",
       "      <td>-0.174729</td>\n",
       "      <td>-0.735916</td>\n",
       "    </tr>\n",
       "  </tbody>\n",
       "</table>\n",
       "</div>"
      ],
      "text/plain": [
       "              PC1       PC2       PC3       PC4       PC5\n",
       "PM2.5    0.367580  0.017881 -0.102442  0.251761 -0.029514\n",
       "PM10     0.358749  0.121808 -0.108297  0.141722 -0.105872\n",
       "NO       0.358690  0.079206 -0.238777 -0.049981 -0.066645\n",
       "NO2      0.348564  0.255024 -0.026801 -0.058010 -0.152321\n",
       "NOx      0.316615 -0.071851  0.329494 -0.196147  0.315614\n",
       "NH3      0.272649  0.069764 -0.042596  0.645578  0.034921\n",
       "CO       0.224074 -0.374636  0.461263  0.210254  0.006523\n",
       "SO2      0.235444  0.387788 -0.193429 -0.422144 -0.278407\n",
       "O3       0.149003  0.336539  0.659386 -0.250044  0.070888\n",
       "Benzene  0.359671 -0.207187 -0.068059 -0.102218  0.188172\n",
       "Toluene  0.200369 -0.418481 -0.328616 -0.359874  0.447087\n",
       "Xylene   0.118706 -0.530527  0.109886 -0.174729 -0.735916"
      ]
     },
     "execution_count": 40,
     "metadata": {},
     "output_type": "execute_result"
    }
   ],
   "source": [
    "#Check the selected PCs\n",
    "pca_selected"
   ]
  },
  {
   "cell_type": "code",
   "execution_count": 36,
   "metadata": {
    "scrolled": false
   },
   "outputs": [
    {
     "data": {
      "image/png": "[encoded data removed]",
      "text/plain": [
       "<Figure size 720x648 with 5 Axes>"
      ]
     },
     "metadata": {
      "needs_background": "light"
     },
     "output_type": "display_data"
    }
   ],
   "source": [
    "#Check as to how the original features matter to each PC\n",
    "#Note: Here we are only considering the absolute values\n",
    "plt.figure(figsize=(10,9))\n",
    "for i in range(len(pca_selected.columns)):\n",
    "    plt.subplot(3,2,i+1)\n",
    "    abs(pca_selected[pca_selected.columns[i]]).T.sort_values(ascending=False).plot.bar()\n",
    "    plt.title('bar plot for {}'.format(pca_selected.columns[i]))\n",
    "    plt.tight_layout()"
   ]
  },
  {
   "cell_type": "code",
   "execution_count": 68,
   "metadata": {
    "scrolled": false
   },
   "outputs": [
    {
     "data": {
      "text/plain": [
       "<AxesSubplot:>"
      ]
     },
     "execution_count": 68,
     "metadata": {},
     "output_type": "execute_result"
    },
    {
     "data": {
      "image/png": "[encoded data removed]",
      "text/plain": [
       "<Figure size 432x288 with 2 Axes>"
      ]
     },
     "metadata": {
      "needs_background": "light"
     },
     "output_type": "display_data"
    }
   ],
   "source": [
    "#Compare how the original features influence various PCs\n",
    "sns.heatmap(abs(pca_selected),annot=True,cmap='Blues')"
   ]
  },
  {
   "cell_type": "code",
   "execution_count": 69,
   "metadata": {
    "scrolled": false
   },
   "outputs": [
    {
     "data": {
      "text/html": [
       "<div>\n",
       "<style scoped>\n",
       "    .dataframe tbody tr th:only-of-type {\n",
       "        vertical-align: middle;\n",
       "    }\n",
       "\n",
       "    .dataframe tbody tr th {\n",
       "        vertical-align: top;\n",
       "    }\n",
       "\n",
       "    .dataframe thead th {\n",
       "        text-align: right;\n",
       "    }\n",
       "</style>\n",
       "<table border=\"1\" class=\"dataframe\">\n",
       "  <thead>\n",
       "    <tr style=\"text-align: right;\">\n",
       "      <th></th>\n",
       "      <th>PC1</th>\n",
       "      <th>PC2</th>\n",
       "      <th>PC3</th>\n",
       "      <th>PC4</th>\n",
       "      <th>PC5</th>\n",
       "    </tr>\n",
       "  </thead>\n",
       "  <tbody>\n",
       "    <tr>\n",
       "      <th>PM2.5</th>\n",
       "      <td>0.367580</td>\n",
       "      <td>0.017881</td>\n",
       "      <td>-0.102442</td>\n",
       "      <td>0.251761</td>\n",
       "      <td>-0.029514</td>\n",
       "    </tr>\n",
       "    <tr>\n",
       "      <th>PM10</th>\n",
       "      <td>0.358749</td>\n",
       "      <td>0.121808</td>\n",
       "      <td>-0.108297</td>\n",
       "      <td>0.141722</td>\n",
       "      <td>-0.105872</td>\n",
       "    </tr>\n",
       "    <tr>\n",
       "      <th>NO</th>\n",
       "      <td>0.358690</td>\n",
       "      <td>0.079206</td>\n",
       "      <td>-0.238777</td>\n",
       "      <td>-0.049981</td>\n",
       "      <td>-0.066645</td>\n",
       "    </tr>\n",
       "    <tr>\n",
       "      <th>NO2</th>\n",
       "      <td>0.348564</td>\n",
       "      <td>0.255024</td>\n",
       "      <td>-0.026801</td>\n",
       "      <td>-0.058010</td>\n",
       "      <td>-0.152321</td>\n",
       "    </tr>\n",
       "    <tr>\n",
       "      <th>NOx</th>\n",
       "      <td>0.316615</td>\n",
       "      <td>-0.071851</td>\n",
       "      <td>0.329494</td>\n",
       "      <td>-0.196147</td>\n",
       "      <td>0.315614</td>\n",
       "    </tr>\n",
       "    <tr>\n",
       "      <th>NH3</th>\n",
       "      <td>0.272649</td>\n",
       "      <td>0.069764</td>\n",
       "      <td>-0.042596</td>\n",
       "      <td>0.645578</td>\n",
       "      <td>0.034921</td>\n",
       "    </tr>\n",
       "    <tr>\n",
       "      <th>CO</th>\n",
       "      <td>0.224074</td>\n",
       "      <td>-0.374636</td>\n",
       "      <td>0.461263</td>\n",
       "      <td>0.210254</td>\n",
       "      <td>0.006523</td>\n",
       "    </tr>\n",
       "    <tr>\n",
       "      <th>SO2</th>\n",
       "      <td>0.235444</td>\n",
       "      <td>0.387788</td>\n",
       "      <td>-0.193429</td>\n",
       "      <td>-0.422144</td>\n",
       "      <td>-0.278407</td>\n",
       "    </tr>\n",
       "    <tr>\n",
       "      <th>O3</th>\n",
       "      <td>0.149003</td>\n",
       "      <td>0.336539</td>\n",
       "      <td>0.659386</td>\n",
       "      <td>-0.250044</td>\n",
       "      <td>0.070888</td>\n",
       "    </tr>\n",
       "    <tr>\n",
       "      <th>Benzene</th>\n",
       "      <td>0.359671</td>\n",
       "      <td>-0.207187</td>\n",
       "      <td>-0.068059</td>\n",
       "      <td>-0.102218</td>\n",
       "      <td>0.188172</td>\n",
       "    </tr>\n",
       "    <tr>\n",
       "      <th>Toluene</th>\n",
       "      <td>0.200369</td>\n",
       "      <td>-0.418481</td>\n",
       "      <td>-0.328616</td>\n",
       "      <td>-0.359874</td>\n",
       "      <td>0.447087</td>\n",
       "    </tr>\n",
       "    <tr>\n",
       "      <th>Xylene</th>\n",
       "      <td>0.118706</td>\n",
       "      <td>-0.530527</td>\n",
       "      <td>0.109886</td>\n",
       "      <td>-0.174729</td>\n",
       "      <td>-0.735916</td>\n",
       "    </tr>\n",
       "  </tbody>\n",
       "</table>\n",
       "</div>"
      ],
      "text/plain": [
       "              PC1       PC2       PC3       PC4       PC5\n",
       "PM2.5    0.367580  0.017881 -0.102442  0.251761 -0.029514\n",
       "PM10     0.358749  0.121808 -0.108297  0.141722 -0.105872\n",
       "NO       0.358690  0.079206 -0.238777 -0.049981 -0.066645\n",
       "NO2      0.348564  0.255024 -0.026801 -0.058010 -0.152321\n",
       "NOx      0.316615 -0.071851  0.329494 -0.196147  0.315614\n",
       "NH3      0.272649  0.069764 -0.042596  0.645578  0.034921\n",
       "CO       0.224074 -0.374636  0.461263  0.210254  0.006523\n",
       "SO2      0.235444  0.387788 -0.193429 -0.422144 -0.278407\n",
       "O3       0.149003  0.336539  0.659386 -0.250044  0.070888\n",
       "Benzene  0.359671 -0.207187 -0.068059 -0.102218  0.188172\n",
       "Toluene  0.200369 -0.418481 -0.328616 -0.359874  0.447087\n",
       "Xylene   0.118706 -0.530527  0.109886 -0.174729 -0.735916"
      ]
     },
     "execution_count": 69,
     "metadata": {},
     "output_type": "execute_result"
    }
   ],
   "source": [
    "#In order to calculate PC scores we need loadings, below:\n",
    "pca_selected"
   ]
  },
  {
   "cell_type": "code",
   "execution_count": 119,
   "metadata": {
    "scrolled": false
   },
   "outputs": [
    {
     "data": {
      "text/plain": [
       "PM2.5     -0.823814\n",
       "PM10      -0.881449\n",
       "NO        -1.103682\n",
       "NO2       -1.364231\n",
       "NOx       -1.171197\n",
       "NH3       -0.876637\n",
       "CO        -0.569198\n",
       "SO2       -0.666182\n",
       "O3        -0.949903\n",
       "Benzene   -0.650850\n",
       "Toluene    0.571394\n",
       "Xylene    -0.164550\n",
       "Name: 0, dtype: float64"
      ]
     },
     "execution_count": 119,
     "metadata": {},
     "output_type": "execute_result"
    }
   ],
   "source": [
    "#...and we need the original scaled features\n",
    "df_scaled.iloc[0]"
   ]
  },
  {
   "cell_type": "code",
   "execution_count": null,
   "metadata": {
    "scrolled": false
   },
   "outputs": [],
   "source": [
    "#We need to perform a dot product between the loadings and features to obtain the scores\n"
   ]
  },
  {
   "cell_type": "code",
   "execution_count": 120,
   "metadata": {
    "scrolled": false
   },
   "outputs": [],
   "source": [
    "#Above step involves a lot of hard work. Let's do it the easier way\n",
    "#Extract the required(as per the cumulative explained variance) number of PCs\n",
    "pca=PCA(n_components=5,random_state=123)\n",
    "pca_new=pca.fit_transform(df_scaled)"
   ]
  },
  {
   "cell_type": "code",
   "execution_count": 127,
   "metadata": {
    "scrolled": false
   },
   "outputs": [
    {
     "data": {
      "text/html": [
       "<div>\n",
       "<style scoped>\n",
       "    .dataframe tbody tr th:only-of-type {\n",
       "        vertical-align: middle;\n",
       "    }\n",
       "\n",
       "    .dataframe tbody tr th {\n",
       "        vertical-align: top;\n",
       "    }\n",
       "\n",
       "    .dataframe thead th {\n",
       "        text-align: right;\n",
       "    }\n",
       "</style>\n",
       "<table border=\"1\" class=\"dataframe\">\n",
       "  <thead>\n",
       "    <tr style=\"text-align: right;\">\n",
       "      <th></th>\n",
       "      <th>PC1</th>\n",
       "      <th>PC2</th>\n",
       "      <th>PC3</th>\n",
       "      <th>PC4</th>\n",
       "      <th>PC5</th>\n",
       "    </tr>\n",
       "  </thead>\n",
       "  <tbody>\n",
       "    <tr>\n",
       "      <th>0</th>\n",
       "      <td>-2.665334</td>\n",
       "      <td>-0.916180</td>\n",
       "      <td>-0.790212</td>\n",
       "      <td>-0.245518</td>\n",
       "      <td>0.367239</td>\n",
       "    </tr>\n",
       "    <tr>\n",
       "      <th>1</th>\n",
       "      <td>-3.156439</td>\n",
       "      <td>-0.411456</td>\n",
       "      <td>-0.384953</td>\n",
       "      <td>-0.150697</td>\n",
       "      <td>0.398613</td>\n",
       "    </tr>\n",
       "    <tr>\n",
       "      <th>2</th>\n",
       "      <td>-2.354841</td>\n",
       "      <td>-1.347799</td>\n",
       "      <td>-0.881378</td>\n",
       "      <td>-0.483265</td>\n",
       "      <td>-0.338393</td>\n",
       "    </tr>\n",
       "    <tr>\n",
       "      <th>3</th>\n",
       "      <td>-1.829266</td>\n",
       "      <td>-1.964523</td>\n",
       "      <td>-1.144289</td>\n",
       "      <td>-0.255720</td>\n",
       "      <td>-1.167517</td>\n",
       "    </tr>\n",
       "    <tr>\n",
       "      <th>4</th>\n",
       "      <td>-2.781773</td>\n",
       "      <td>-0.676409</td>\n",
       "      <td>-1.105102</td>\n",
       "      <td>0.156680</td>\n",
       "      <td>0.541447</td>\n",
       "    </tr>\n",
       "    <tr>\n",
       "      <th>5</th>\n",
       "      <td>-2.552951</td>\n",
       "      <td>-1.016836</td>\n",
       "      <td>-0.896148</td>\n",
       "      <td>-0.122146</td>\n",
       "      <td>0.308240</td>\n",
       "    </tr>\n",
       "    <tr>\n",
       "      <th>6</th>\n",
       "      <td>-2.974647</td>\n",
       "      <td>-0.688794</td>\n",
       "      <td>-0.713432</td>\n",
       "      <td>-0.076641</td>\n",
       "      <td>0.467709</td>\n",
       "    </tr>\n",
       "    <tr>\n",
       "      <th>7</th>\n",
       "      <td>-3.461293</td>\n",
       "      <td>-0.243401</td>\n",
       "      <td>-0.666444</td>\n",
       "      <td>0.260655</td>\n",
       "      <td>0.516457</td>\n",
       "    </tr>\n",
       "    <tr>\n",
       "      <th>8</th>\n",
       "      <td>-3.394853</td>\n",
       "      <td>-0.254105</td>\n",
       "      <td>-0.564833</td>\n",
       "      <td>0.252188</td>\n",
       "      <td>0.474779</td>\n",
       "    </tr>\n",
       "    <tr>\n",
       "      <th>9</th>\n",
       "      <td>-2.949465</td>\n",
       "      <td>-0.223915</td>\n",
       "      <td>-0.256325</td>\n",
       "      <td>-0.014562</td>\n",
       "      <td>0.662630</td>\n",
       "    </tr>\n",
       "  </tbody>\n",
       "</table>\n",
       "</div>"
      ],
      "text/plain": [
       "        PC1       PC2       PC3       PC4       PC5\n",
       "0 -2.665334 -0.916180 -0.790212 -0.245518  0.367239\n",
       "1 -3.156439 -0.411456 -0.384953 -0.150697  0.398613\n",
       "2 -2.354841 -1.347799 -0.881378 -0.483265 -0.338393\n",
       "3 -1.829266 -1.964523 -1.144289 -0.255720 -1.167517\n",
       "4 -2.781773 -0.676409 -1.105102  0.156680  0.541447\n",
       "5 -2.552951 -1.016836 -0.896148 -0.122146  0.308240\n",
       "6 -2.974647 -0.688794 -0.713432 -0.076641  0.467709\n",
       "7 -3.461293 -0.243401 -0.666444  0.260655  0.516457\n",
       "8 -3.394853 -0.254105 -0.564833  0.252188  0.474779\n",
       "9 -2.949465 -0.223915 -0.256325 -0.014562  0.662630"
      ]
     },
     "execution_count": 127,
     "metadata": {},
     "output_type": "execute_result"
    }
   ],
   "source": [
    "#Just create a dataframe out of fit_transformed scaled data above\n",
    "#Note: Notice the output of cell 34 and the first row of the dataframe below\n",
    "pca_final=pd.DataFrame(pca_new,columns=pca_selected.columns)\n",
    "pca_final.head(10)"
   ]
  },
  {
   "cell_type": "code",
   "execution_count": 131,
   "metadata": {},
   "outputs": [
    {
     "data": {
      "text/plain": [
       "<AxesSubplot:>"
      ]
     },
     "execution_count": 131,
     "metadata": {},
     "output_type": "execute_result"
    },
    {
     "data": {
      "image/png": "[encoded data removed]",
      "text/plain": [
       "<Figure size 432x288 with 2 Axes>"
      ]
     },
     "metadata": {
      "needs_background": "light"
     },
     "output_type": "display_data"
    }
   ],
   "source": [
    "#Check for presence of correlations among teh PCs\n",
    "sns.heatmap(pca_final.corr(),annot=True,fmt='.2f')"
   ]
  },
  {
   "cell_type": "code",
   "execution_count": null,
   "metadata": {},
   "outputs": [],
   "source": []
  },
  {
   "cell_type": "code",
   "execution_count": null,
   "metadata": {},
   "outputs": [],
   "source": []
  },
  {
   "cell_type": "code",
   "execution_count": null,
   "metadata": {},
   "outputs": [],
   "source": []
  },
  {
   "cell_type": "code",
   "execution_count": null,
   "metadata": {},
   "outputs": [],
   "source": []
  },
  {
   "cell_type": "code",
   "execution_count": null,
   "metadata": {},
   "outputs": [],
   "source": []
  }
 ],
 "metadata": {
  "kernelspec": {
   "display_name": "Python 3 (ipykernel)",
   "language": "python",
   "name": "python3"
  },
  "language_info": {
   "codemirror_mode": {
    "name": "ipython",
    "version": 3
   },
   "file_extension": ".py",
   "mimetype": "text/x-python",
   "name": "python",
   "nbconvert_exporter": "python",
   "pygments_lexer": "ipython3",
   "version": "3.9.7"
  }
 },
 "nbformat": 4,
 "nbformat_minor": 4
}
